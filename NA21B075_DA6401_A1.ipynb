{
  "cells": [
    {
      "cell_type": "code",
      "execution_count": null,
      "metadata": {
        "id": "sVGWLyXf1BaO"
      },
      "outputs": [],
      "source": [
        "!pip install wandb"
      ]
    },
    {
      "cell_type": "code",
      "execution_count": null,
      "metadata": {
        "colab": {
          "base_uri": "https://localhost:8080/"
        },
        "id": "miXat64U1Goj",
        "outputId": "e667a8ae-3c26-4e84-fae4-072553c6cd18"
      },
      "outputs": [
        {
          "output_type": "execute_result",
          "data": {
            "text/plain": [
              "True"
            ]
          },
          "metadata": {},
          "execution_count": 3
        }
      ],
      "source": [
        "import wandb\n",
        "wandb.login()"
      ]
    },
    {
      "cell_type": "markdown",
      "metadata": {
        "id": "ZnoMSG0nTMqs"
      },
      "source": [
        "QUESTION 1"
      ]
    },
    {
      "cell_type": "code",
      "execution_count": null,
      "metadata": {
        "colab": {
          "base_uri": "https://localhost:8080/",
          "height": 312
        },
        "id": "xocisv_g1Ls-",
        "outputId": "89037532-1803-4989-9716-4dfaa47726de"
      },
      "outputs": [
        {
          "output_type": "stream",
          "name": "stdout",
          "text": [
            "Downloading data from https://storage.googleapis.com/tensorflow/tf-keras-datasets/train-labels-idx1-ubyte.gz\n",
            "\u001b[1m29515/29515\u001b[0m \u001b[32m━━━━━━━━━━━━━━━━━━━━\u001b[0m\u001b[37m\u001b[0m \u001b[1m0s\u001b[0m 0us/step\n",
            "Downloading data from https://storage.googleapis.com/tensorflow/tf-keras-datasets/train-images-idx3-ubyte.gz\n",
            "\u001b[1m26421880/26421880\u001b[0m \u001b[32m━━━━━━━━━━━━━━━━━━━━\u001b[0m\u001b[37m\u001b[0m \u001b[1m2s\u001b[0m 0us/step\n",
            "Downloading data from https://storage.googleapis.com/tensorflow/tf-keras-datasets/t10k-labels-idx1-ubyte.gz\n",
            "\u001b[1m5148/5148\u001b[0m \u001b[32m━━━━━━━━━━━━━━━━━━━━\u001b[0m\u001b[37m\u001b[0m \u001b[1m0s\u001b[0m 0us/step\n",
            "Downloading data from https://storage.googleapis.com/tensorflow/tf-keras-datasets/t10k-images-idx3-ubyte.gz\n",
            "\u001b[1m4422102/4422102\u001b[0m \u001b[32m━━━━━━━━━━━━━━━━━━━━\u001b[0m\u001b[37m\u001b[0m \u001b[1m1s\u001b[0m 0us/step\n"
          ]
        },
        {
          "output_type": "display_data",
          "data": {
            "text/plain": [
              "<IPython.core.display.HTML object>"
            ],
            "text/html": [
              "Tracking run with wandb version 0.19.8"
            ]
          },
          "metadata": {}
        },
        {
          "output_type": "display_data",
          "data": {
            "text/plain": [
              "<IPython.core.display.HTML object>"
            ],
            "text/html": [
              "Run data is saved locally in <code>/content/wandb/run-20250317_114722-f2gvs7p4</code>"
            ]
          },
          "metadata": {}
        },
        {
          "output_type": "display_data",
          "data": {
            "text/plain": [
              "<IPython.core.display.HTML object>"
            ],
            "text/html": [
              "Syncing run <strong><a href='https://wandb.ai/na21b075-indian-institute-of-technology-madras/wandb/runs/f2gvs7p4' target=\"_blank\">sample images for each class</a></strong> to <a href='https://wandb.ai/na21b075-indian-institute-of-technology-madras/wandb' target=\"_blank\">Weights & Biases</a> (<a href='https://wandb.me/developer-guide' target=\"_blank\">docs</a>)<br>"
            ]
          },
          "metadata": {}
        },
        {
          "output_type": "display_data",
          "data": {
            "text/plain": [
              "<IPython.core.display.HTML object>"
            ],
            "text/html": [
              " View project at <a href='https://wandb.ai/na21b075-indian-institute-of-technology-madras/wandb' target=\"_blank\">https://wandb.ai/na21b075-indian-institute-of-technology-madras/wandb</a>"
            ]
          },
          "metadata": {}
        },
        {
          "output_type": "display_data",
          "data": {
            "text/plain": [
              "<IPython.core.display.HTML object>"
            ],
            "text/html": [
              " View run at <a href='https://wandb.ai/na21b075-indian-institute-of-technology-madras/wandb/runs/f2gvs7p4' target=\"_blank\">https://wandb.ai/na21b075-indian-institute-of-technology-madras/wandb/runs/f2gvs7p4</a>"
            ]
          },
          "metadata": {}
        },
        {
          "output_type": "display_data",
          "data": {
            "text/plain": [
              "<IPython.core.display.HTML object>"
            ],
            "text/html": []
          },
          "metadata": {}
        },
        {
          "output_type": "display_data",
          "data": {
            "text/plain": [
              "<IPython.core.display.HTML object>"
            ],
            "text/html": [
              " View run <strong style=\"color:#cdcd00\">sample images for each class</strong> at: <a href='https://wandb.ai/na21b075-indian-institute-of-technology-madras/wandb/runs/f2gvs7p4' target=\"_blank\">https://wandb.ai/na21b075-indian-institute-of-technology-madras/wandb/runs/f2gvs7p4</a><br> View project at: <a href='https://wandb.ai/na21b075-indian-institute-of-technology-madras/wandb' target=\"_blank\">https://wandb.ai/na21b075-indian-institute-of-technology-madras/wandb</a><br>Synced 5 W&B file(s), 10 media file(s), 0 artifact file(s) and 0 other file(s)"
            ]
          },
          "metadata": {}
        },
        {
          "output_type": "display_data",
          "data": {
            "text/plain": [
              "<IPython.core.display.HTML object>"
            ],
            "text/html": [
              "Find logs at: <code>./wandb/run-20250317_114722-f2gvs7p4/logs</code>"
            ]
          },
          "metadata": {}
        }
      ],
      "source": [
        "from keras.datasets import fashion_mnist\n",
        "import matplotlib.pyplot as plt\n",
        "import numpy as np\n",
        "\n",
        "# dataset\n",
        "(x_train, y_train), (x_test, y_test) = fashion_mnist.load_data()\n",
        "\n",
        "# class names\n",
        "class_names = [\n",
        "    \"T-shirt/top\", \"Trouser\", \"Pullover\", \"Dress\", \"Coat\",\n",
        "    \"Sandal\", \"Shirt\", \"Sneaker\", \"Bag\", \"Ankle boot\"\n",
        "]\n",
        "# Initializing wandb run\n",
        "wandb.init(project=\"wandb\", name=\"sample images for each class\")\n",
        "\n",
        "# Finding one sample per class\n",
        "sample_images = {}\n",
        "for i in range(len(y_train)):\n",
        "    label = y_train[i]\n",
        "    if label not in sample_images:\n",
        "        sample_images[label] = x_train[i]\n",
        "    if len(sample_images) == 10:\n",
        "        break\n",
        "\n",
        "# Log images to wandb\n",
        "wandb.log({\"sample images for each class\": [wandb.Image(sample_images[label], caption=class_names[label]) for label in sample_images]})\n",
        "\n",
        "# End wandb run\n",
        "wandb.finish()"
      ]
    },
    {
      "cell_type": "markdown",
      "metadata": {
        "id": "2nToW1enTUo-"
      },
      "source": [
        "FORWARD PROPAGATION IMPLEMENTATION\n"
      ]
    },
    {
      "cell_type": "code",
      "execution_count": null,
      "metadata": {
        "id": "64ZOzy6k58SQ"
      },
      "outputs": [],
      "source": [
        "import numpy as np\n",
        "\n",
        "# Activation Functions\n",
        "def sigmoid(z):\n",
        "    return 1 / (1 + np.exp(-z))\n",
        "\n",
        "def tanh(z):\n",
        "    return np.tanh(z)\n",
        "\n",
        "def relu(z):\n",
        "    return np.maximum(0, z)\n",
        "\n",
        "def softmax(x):\n",
        "    e_x = np.exp(x - np.max(x, axis=0, keepdims=True))  # Numerical stability\n",
        "    return e_x / np.sum(e_x, axis=0, keepdims=True)\n",
        "\n",
        "# Weight Initialization Function\n",
        "def initialize(initializer, size1, size2):\n",
        "    if initializer == \"random\":\n",
        "        return np.random.randn(size1, size2) * 0.01\n",
        "    elif initializer == \"Xavier\":\n",
        "        return np.random.randn(size1, size2) * np.sqrt(1 / size2)\n",
        "    else:\n",
        "        raise ValueError(\"Invalid initializer. Use 'random' or 'Xavier'.\")\n",
        "\n",
        "# Linear Forward Function\n",
        "def linear_forward(H, W, b):\n",
        "    A = np.dot(W, H) + b.reshape(-1, 1)  # Ensure bias broadcasting\n",
        "    cache = (H, W, b)\n",
        "    return A, cache\n",
        "\n",
        "# Initializing weight and bias matrices for all layers\n",
        "def initialize_Wb_matrix(X, num_hidden, size_hidden, initializer):\n",
        "    layer_dims = [X.shape[0]] + [size_hidden] * num_hidden + [10]  # Output layer (10 classes)\n",
        "    np.random.seed(3)\n",
        "\n",
        "    Wb_matrix = {}\n",
        "    update = {}\n",
        "    grads = {}\n",
        "\n",
        "    for l in range(1, len(layer_dims)):\n",
        "        Wb_matrix[f'W{l}'] = initialize(initializer, layer_dims[l], layer_dims[l-1])\n",
        "        update[f'W{l}'] = np.zeros((layer_dims[l], layer_dims[l-1]))\n",
        "        Wb_matrix[f'b{l}'] = np.zeros((layer_dims[l], 1))  # Ensure column vector\n",
        "        update[f'b{l}'] = np.zeros((layer_dims[l], 1))\n",
        "        grads[f'dW{l}'] = np.zeros((layer_dims[l], layer_dims[l-1]))\n",
        "        grads[f'db{l}'] = np.zeros((layer_dims[l], 1))\n",
        "\n",
        "    return Wb_matrix, update, grads\n",
        "\n",
        "# Activation Forward\n",
        "def activation_forward(H_prev, W, b, activation):\n",
        "    A, linear_cache = linear_forward(H_prev, W, b)\n",
        "\n",
        "    if activation == 'relu':\n",
        "        H = relu(A)\n",
        "    elif activation == 'sigmoid':\n",
        "        H = sigmoid(A)\n",
        "    elif activation == 'tanh':\n",
        "        H = tanh(A)\n",
        "    elif activation == 'softmax':\n",
        "        H = softmax(A)\n",
        "    else:\n",
        "        raise ValueError(\"Invalid activation function.\")\n",
        "\n",
        "    return H, A, linear_cache  # A (pre-activation) added for cache\n",
        "\n",
        "# Forward Propagation\n",
        "def forward_propagation(X, Wb_matrix, hidden_activation='relu'):\n",
        "    H = X\n",
        "    L = len(Wb_matrix) // 2\n",
        "    A_caches = []\n",
        "    H_caches = [H]\n",
        "\n",
        "    # Hidden layers\n",
        "    for l in range(1, L):\n",
        "        H, A_cache, linear_cache = activation_forward(H, Wb_matrix[f'W{l}'], Wb_matrix[f'b{l}'], hidden_activation)\n",
        "        A_caches.append(A_cache)\n",
        "        H_caches.append(H)\n",
        "\n",
        "    # Output layer (Softmax)\n",
        "    HL, AL, linear_cache = activation_forward(H, Wb_matrix[f'W{L}'], Wb_matrix[f'b{L}'], 'softmax')\n",
        "    A_caches.append(AL)\n",
        "    H_caches.append(HL)\n",
        "\n",
        "    return HL, H_caches, A_caches"
      ]
    },
    {
      "cell_type": "markdown",
      "metadata": {
        "id": "64nYfnxafkTL"
      },
      "source": [
        "BACKWARD PROPAGATION IMPLEMENTATION"
      ]
    },
    {
      "cell_type": "code",
      "execution_count": null,
      "metadata": {
        "id": "WSxncNfeLUad"
      },
      "outputs": [],
      "source": [
        "import numpy as np\n",
        "def one_hot_encoding(l, L):\n",
        "    #Converts a class index into a one-hot encoded vector.\n",
        "    e = [1 if i == l else 0 for i in range(L)]\n",
        "    return np.asarray(e)\n",
        "def deriv_activ(z, activation):\n",
        "    #Computes the derivative of the activation function.\n",
        "  if(activation == \"relu\"):\n",
        "    z[z<=0] = 0\n",
        "    z[z>0] = 1\n",
        "    return z\n",
        "  elif(activation == \"sigmoid\"):\n",
        "    g_deriv = sigmoid(z) * (1 - sigmoid(z))\n",
        "    return g_deriv\n",
        "\n",
        "  elif(activation == \"tanh\"):\n",
        "    deriv = 1 - (tanh(z)) ** 2\n",
        "    return deriv\n",
        "def back_propagation(H_caches, A_caches, Wb_matrix, y_hat, y, activation, weight_decay,loss):\n",
        "    #performs backpropagation to compute gradients\n",
        "  e_y = []\n",
        "  L = int((len(Wb_matrix)/2))\n",
        "  num_train = y_hat.shape[1]\n",
        "  num_classes = y_hat.shape[0]\n",
        "  for j in range(num_train):\n",
        "    e_y.append(one_hot_encoding(y[j],num_classes))\n",
        "  e_y = np.reshape(e_y,(num_classes,num_train))\n",
        "  if loss == \"cross_entropy\":\n",
        "    da = -(e_y - y_hat)\n",
        "  elif loss == \"mse\":\n",
        "    da = (y_hat - e_y)*y_hat - y_hat*(np.dot((y_hat-y).T, y_hat))\n",
        "  da = -(e_y - y_hat)\n",
        "  grads = {}\n",
        "\n",
        "  for k in reversed(range(1,L+1)):\n",
        "    dW = np.matmul(da, np.transpose(H_caches[k-1])) + 2*weight_decay*Wb_matrix['W{:d}'.format(k)]\n",
        "    db = da\n",
        "    if k != 1:\n",
        "      dh = np.dot(Wb_matrix['W{:d}'.format(k)].T, da)\n",
        "      da = np.multiply(dh, deriv_activ(A_caches[k-2], activation))\n",
        "    grads[\"dW\" + str(k)] = dW\n",
        "    grads[\"db\" + str(k)] = db\n",
        "\n",
        "  return grads\n",
        "def sgd(Wb_matrix, grads, eta,L):\n",
        "    #Performs Stochastic Gradient Descent (SGD) optimization.\n",
        "  for l in range(L):\n",
        "    Wb_matrix['W' + str(l+1)] = Wb_matrix['W' + str(l+1)] - eta * grads[\"dW\" + str(l+1)]\n",
        "    Wb_matrix['b' + str(l+1)] = Wb_matrix['b' + str(l+1)] - eta * grads[\"db\" + str(l+1)]\n",
        "  return Wb_matrix\n",
        "\n",
        "def momentum(Wb_matrix, grads, eta, gamma, update,L):\n",
        "    #Performs Momentum-based optimization.\n",
        "  for l in range(L):\n",
        "    update['W' + str(l+1)] = (gamma * update['W' + str(l+1)]) + eta * grads['dW' + str(l+1)]\n",
        "    Wb_matrix['W' + str(l+1)] = Wb_matrix['W' + str(l+1)] - update['W' + str(l+1)]\n",
        "\n",
        "    update[\"b\" + str(l+1)] = (gamma * update[\"b\" + str(l+1)]) + eta * grads[\"db\" + str(l+1)]\n",
        "    Wb_matrix[\"b\" + str(l+1)] = Wb_matrix[\"b\" + str(l+1)] - update[\"b\" + str(l+1)]\n",
        "\n",
        "  return Wb_matrix, update\n",
        "\n",
        "def nag(Wb_matrix,eta,gamma, update, L):\n",
        "    #Performs Nesterov Accelerated Gradient (NAG) optimization.\n",
        "  Wb_matrix_temp= {}\n",
        "  for l in range(L):\n",
        "    update['W' + str(l+1)] = (gamma * update['W' + str(l+1)])\n",
        "    Wb_matrix_temp['W' + str(l+1)] = Wb_matrix['W' + str(l+1)] - update['W' + str(l+1)]\n",
        "\n",
        "    update[\"b\" + str(l+1)] = (gamma * update[\"b\" + str(l+1)])\n",
        "    Wb_matrix_temp[\"b\" + str(l+1)] = Wb_matrix[\"b\" + str(l+1)] - update[\"b\" + str(l+1)]\n",
        "\n",
        "  return Wb_matrix_temp, update\n",
        "\n",
        "def rmsprop(Wb_matrix, eta, update ,beta1, eps, grads, L):\n",
        "    #Performs RMS-prop optimization\n",
        "  for l in range(L):\n",
        "    update['W' + str(l+1)] = beta1 * update['W' + str(l+1)] + (1-beta1) * grads['dW' + str(l+1)]**2\n",
        "    update[\"b\" + str(l+1)] = beta1 * update[\"b\" + str(l+1)] + (1-beta1) * grads[\"db\" + str(l+1)]**2\n",
        "    Wb_matrix['W' + str(l+1)] = Wb_matrix['W' + str(l+1)] - (eta/np.sqrt(update['W' + str(l+1)]+eps)) * grads['dW' + str(l+1)]\n",
        "    Wb_matrix[\"b\" + str(l+1)] = Wb_matrix[\"b\" + str(l+1)] - (eta/np.sqrt(update['b' + str(l+1)]+eps)) * grads['db' + str(l+1)]\n",
        "  return Wb_matrix, update\n",
        "\n",
        "def adam(Wb_matrix, eta, beta1, beta2, update, v_n, eps, grads, L,i):\n",
        "  #Performs ADAM optimization\n",
        "  import math\n",
        "  m_hat = update.copy()\n",
        "  v_hat = update.copy()\n",
        "  for l in range(L):\n",
        "    update['W' + str(l+1)] = beta1 * update['W' + str(l+1)] + (1-beta1) * grads['dW' + str(l+1)]\n",
        "    update['b' + str(l+1)] = beta1 * update['b' + str(l+1)] + (1-beta1) * grads['db' + str(l+1)]\n",
        "\n",
        "    v_n['W' + str(l+1)] = beta2 * v_n['W' + str(l+1)] + (1-beta2) * grads['dW' + str(l+1)]**2\n",
        "    v_n[\"b\" + str(l+1)] = beta2 * v_n[\"b\" + str(l+1)] + (1-beta2) * grads['db' + str(l+1)]**2\n",
        "\n",
        "    m_hat['W' + str(l+1)] = update['W' + str(l+1)]/(1-math.pow(beta1,i+1))\n",
        "    m_hat['b' + str(l+1)] = update['b' + str(l+1)]/(1-math.pow(beta1,i+1))\n",
        "\n",
        "    v_hat['W' + str(l+1)] = v_n['W' + str(l+1)]/(1-math.pow(beta2,i+1))\n",
        "    v_hat['b' + str(l+1)] = v_n['b' + str(l+1)]/(1-math.pow(beta2,i+1))\n",
        "\n",
        "\n",
        "    Wb_matrix['W' + str(l+1)] = Wb_matrix['W' + str(l+1)] - (eta/(np.sqrt(v_hat['W' + str(l+1)]+eps)))* m_hat['W' + str(l+1)]\n",
        "    Wb_matrix[\"b\" + str(l+1)] = Wb_matrix[\"b\" + str(l+1)] - (eta/(np.sqrt(v_hat['b' + str(l+1)]+eps)))* m_hat['b' + str(l+1)]\n",
        "\n",
        "\n",
        "  return Wb_matrix, update, v_n"
      ]
    },
    {
      "cell_type": "code",
      "execution_count": null,
      "metadata": {
        "id": "8zFfpAiDKRu6"
      },
      "outputs": [],
      "source": [
        "def swp():\n",
        "    from keras.datasets import fashion_mnist\n",
        "    import numpy as np\n",
        "    import math\n",
        "    import random\n",
        "    from sklearn.metrics import confusion_matrix\n",
        "    import seaborn as sns\n",
        "    from sklearn.model_selection import train_test_split\n",
        "    (X_train, y_train), (X_test, y_test) = fashion_mnist.load_data()\n",
        "    X_train_flatten = np.reshape(X_train, (X_train.shape[0], X_train.shape[1] * X_train.shape[2])) / 255.0\n",
        "    X_test_flatten = np.reshape(X_test, (X_test.shape[0], X_test.shape[1] * X_test.shape[2])) / 255.0\n",
        "    X_test_flatten = X_test_flatten.T\n",
        "\n",
        "    X_train_flatten, X_val, y_train, y_val = train_test_split(X_train_flatten, y_train, test_size=0.1, random_state=42)\n",
        "    X_train_flatten = X_train_flatten.T\n",
        "    X_val = X_val.T\n",
        "\n",
        "    class_names = ['T-shirt/top', 'Trouser', 'Pullover', 'Dress', 'Coat',\n",
        "                   'Sandal', 'Shirt', 'Sneaker', 'Bag', 'Ankle boot']\n",
        "\n",
        "    hyperparameter_defaults = dict(\n",
        "      num_hidden=random.choice([2, 3, 4, 5]),\n",
        "      size_hidden=random.choice([32, 64, 128]),\n",
        "      weight_decay=random.choice([0, 0.0005, 0.5]),\n",
        "      optimizer=random.choice([\"sgd\", \"momentum\", \"adam\", \"rmsprop\", \"nag\"]),\n",
        "      initializer=random.choice([\"Xavier\", \"random\"]),\n",
        "      activation=random.choice([\"sigmoid\", \"relu\", \"tanh\"]),\n",
        "      batch_size=random.choice([32, 64]),\n",
        "      learning_rate=random.choice([0.001, 0.01, 0.1]),\n",
        "      max_epoch=random.choice([5, 10]),\n",
        "      loss_func=random.choice([\"mse\", \"cross_entropy\"]),\n",
        ")\n",
        "    wandb.init(project=\"wandb\", config=hyperparameter_defaults)\n",
        "    config = wandb.config\n",
        "    wandb.run.name = f\"{config.loss_func}_hl{config.num_hidden}_bs_{config.batch_size}_ac_{config.activation}\"\n",
        "\n",
        "    L = config.num_hidden + 1\n",
        "    beta1 = 0.9\n",
        "    beta2 = 0.999\n",
        "    eps = 1e-8\n",
        "    gamma = 0.9\n",
        "\n",
        "    Wb_matrix, update, grad_initial = initialize_Wb_matrix(X_train_flatten, config.num_hidden, config.size_hidden, config.initializer)\n",
        "    v = update.copy()\n",
        "\n",
        "    for i in range(config.max_epoch):\n",
        "        loss, val_loss, count = 0, 0, 0\n",
        "        grads = grad_initial\n",
        "        print(\"Epoch:\", i + 1)\n",
        "\n",
        "        for j in range(X_train_flatten.shape[1]):\n",
        "            train_ip = np.reshape(X_train_flatten[:, j], (-1, 1))\n",
        "            y_hat, H_caches, A_caches = forward_propagation(train_ip, Wb_matrix, config.activation)\n",
        "\n",
        "            if y_train[j] == np.argmax(y_hat):\n",
        "                count += 1\n",
        "\n",
        "            grad = back_propagation(H_caches, A_caches, Wb_matrix, y_hat, [y_train[j]], config.activation, config.weight_decay, config.loss_func)\n",
        "\n",
        "            for l in range(L):\n",
        "                grads['dW' + str(l + 1)] += grad['dW' + str(l + 1)]\n",
        "                grads['db' + str(l + 1)] += grad['db' + str(l + 1)]\n",
        "\n",
        "            if (j + 1) % config.batch_size == 0:\n",
        "                for l in range(L):\n",
        "                    grads['dW' + str(l + 1)] /= config.batch_size\n",
        "                    grads['db' + str(l + 1)] /= config.batch_size\n",
        "\n",
        "                if config.optimizer == 'adam':\n",
        "                    Wb_matrix, update, v = adam(Wb_matrix, config.learning_rate, beta1, beta2, update, v, eps, grads, L, i + 1)\n",
        "                elif config.optimizer == 'sgd':\n",
        "                    Wb_matrix = sgd(Wb_matrix, grads, config.learning_rate, L)\n",
        "                elif config.optimizer == 'momentum':\n",
        "                    Wb_matrix, update = momentum(Wb_matrix, grads, config.learning_rate, gamma, update, L)\n",
        "                elif config.optimizer == 'rmsprop':\n",
        "                    Wb_matrix, update = rmsprop(Wb_matrix, config.learning_rate, update, beta1, eps, grads, L)\n",
        "\n",
        "        accuracy = 100 * count / X_train_flatten.shape[1]\n",
        "        print(\"     Accuracy\", accuracy)\n",
        "        wandb.log({'epoch': i, 'accuracy': accuracy})\n",
        "\n",
        "    y_hat_test, _, _ = forward_propagation(X_test_flatten, Wb_matrix, config.activation)\n",
        "    wandb.log({\"Confusion_Matrix\": wandb.plot.confusion_matrix(\n",
        "        probs=None,\n",
        "        y_true=y_test,\n",
        "        preds=np.argmax(y_hat_test, axis=0),\n",
        "        class_names=class_names)})\n",
        "\n",
        "    return Wb_matrix, config, X_test_flatten, y_test, class_names\n",
        "    wandb.run.finish()"
      ]
    },
    {
      "cell_type": "code",
      "execution_count": null,
      "metadata": {
        "colab": {
          "base_uri": "https://localhost:8080/",
          "height": 1000
        },
        "id": "sDG1ZTPEVnUA",
        "outputId": "82fb4e67-2acb-4268-c2a8-52f2a1e1ae90"
      },
      "outputs": [
        {
          "data": {
            "text/html": [
              "Tracking run with wandb version 0.19.8"
            ],
            "text/plain": [
              "<IPython.core.display.HTML object>"
            ]
          },
          "metadata": {},
          "output_type": "display_data"
        },
        {
          "data": {
            "text/html": [
              "Run data is saved locally in <code>/content/wandb/run-20250317_114739-a334qqwb</code>"
            ],
            "text/plain": [
              "<IPython.core.display.HTML object>"
            ]
          },
          "metadata": {},
          "output_type": "display_data"
        },
        {
          "data": {
            "text/html": [
              "Syncing run <strong><a href='https://wandb.ai/na21b075-indian-institute-of-technology-madras/wandb/runs/a334qqwb' target=\"_blank\">solar-sun-34</a></strong> to <a href='https://wandb.ai/na21b075-indian-institute-of-technology-madras/wandb' target=\"_blank\">Weights & Biases</a> (<a href='https://wandb.me/developer-guide' target=\"_blank\">docs</a>)<br>"
            ],
            "text/plain": [
              "<IPython.core.display.HTML object>"
            ]
          },
          "metadata": {},
          "output_type": "display_data"
        },
        {
          "data": {
            "text/html": [
              " View project at <a href='https://wandb.ai/na21b075-indian-institute-of-technology-madras/wandb' target=\"_blank\">https://wandb.ai/na21b075-indian-institute-of-technology-madras/wandb</a>"
            ],
            "text/plain": [
              "<IPython.core.display.HTML object>"
            ]
          },
          "metadata": {},
          "output_type": "display_data"
        },
        {
          "data": {
            "text/html": [
              " View run at <a href='https://wandb.ai/na21b075-indian-institute-of-technology-madras/wandb/runs/a334qqwb' target=\"_blank\">https://wandb.ai/na21b075-indian-institute-of-technology-madras/wandb/runs/a334qqwb</a>"
            ],
            "text/plain": [
              "<IPython.core.display.HTML object>"
            ]
          },
          "metadata": {},
          "output_type": "display_data"
        },
        {
          "metadata": {
            "tags": null
          },
          "name": "stdout",
          "output_type": "stream",
          "text": [
            "Epoch: 1\n",
            "     Accuracy 67.9962962962963\n",
            "Epoch: 2\n",
            "     Accuracy 79.83148148148148\n",
            "Epoch: 3\n",
            "     Accuracy 82.54629629629629\n",
            "Epoch: 4\n",
            "     Accuracy 83.71481481481482\n",
            "Epoch: 5\n",
            "     Accuracy 84.47222222222223\n"
          ]
        },
        {
          "data": {
            "text/html": [],
            "text/plain": [
              "<IPython.core.display.HTML object>"
            ]
          },
          "metadata": {},
          "output_type": "display_data"
        },
        {
          "data": {
            "text/html": [
              "<br>    <style><br>        .wandb-row {<br>            display: flex;<br>            flex-direction: row;<br>            flex-wrap: wrap;<br>            justify-content: flex-start;<br>            width: 100%;<br>        }<br>        .wandb-col {<br>            display: flex;<br>            flex-direction: column;<br>            flex-basis: 100%;<br>            flex: 1;<br>            padding: 10px;<br>        }<br>    </style><br><div class=\"wandb-row\"><div class=\"wandb-col\"><h3>Run history:</h3><br/><table class=\"wandb\"><tr><td>accuracy</td><td>▁▆▇██</td></tr><tr><td>epoch</td><td>▁▃▅▆█</td></tr></table><br/></div><div class=\"wandb-col\"><h3>Run summary:</h3><br/><table class=\"wandb\"><tr><td>accuracy</td><td>84.47222</td></tr><tr><td>epoch</td><td>4</td></tr></table><br/></div></div>"
            ],
            "text/plain": [
              "<IPython.core.display.HTML object>"
            ]
          },
          "metadata": {},
          "output_type": "display_data"
        },
        {
          "data": {
            "text/html": [
              " View run <strong style=\"color:#cdcd00\">cross_entropy_hl3_bs_64_ac_tanh</strong> at: <a href='https://wandb.ai/na21b075-indian-institute-of-technology-madras/wandb/runs/a334qqwb' target=\"_blank\">https://wandb.ai/na21b075-indian-institute-of-technology-madras/wandb/runs/a334qqwb</a><br> View project at: <a href='https://wandb.ai/na21b075-indian-institute-of-technology-madras/wandb' target=\"_blank\">https://wandb.ai/na21b075-indian-institute-of-technology-madras/wandb</a><br>Synced 5 W&B file(s), 1 media file(s), 2 artifact file(s) and 0 other file(s)"
            ],
            "text/plain": [
              "<IPython.core.display.HTML object>"
            ]
          },
          "metadata": {},
          "output_type": "display_data"
        },
        {
          "data": {
            "text/html": [
              "Find logs at: <code>./wandb/run-20250317_114739-a334qqwb/logs</code>"
            ],
            "text/plain": [
              "<IPython.core.display.HTML object>"
            ]
          },
          "metadata": {},
          "output_type": "display_data"
        },
        {
          "data": {
            "text/html": [
              "Tracking run with wandb version 0.19.8"
            ],
            "text/plain": [
              "<IPython.core.display.HTML object>"
            ]
          },
          "metadata": {},
          "output_type": "display_data"
        },
        {
          "data": {
            "text/html": [
              "Run data is saved locally in <code>/content/wandb/run-20250317_115223-rigkuoip</code>"
            ],
            "text/plain": [
              "<IPython.core.display.HTML object>"
            ]
          },
          "metadata": {},
          "output_type": "display_data"
        },
        {
          "data": {
            "text/html": [
              "Syncing run <strong><a href='https://wandb.ai/na21b075-indian-institute-of-technology-madras/wandb/runs/rigkuoip' target=\"_blank\">genial-frog-35</a></strong> to <a href='https://wandb.ai/na21b075-indian-institute-of-technology-madras/wandb' target=\"_blank\">Weights & Biases</a> (<a href='https://wandb.me/developer-guide' target=\"_blank\">docs</a>)<br>"
            ],
            "text/plain": [
              "<IPython.core.display.HTML object>"
            ]
          },
          "metadata": {},
          "output_type": "display_data"
        },
        {
          "data": {
            "text/html": [
              " View project at <a href='https://wandb.ai/na21b075-indian-institute-of-technology-madras/wandb' target=\"_blank\">https://wandb.ai/na21b075-indian-institute-of-technology-madras/wandb</a>"
            ],
            "text/plain": [
              "<IPython.core.display.HTML object>"
            ]
          },
          "metadata": {},
          "output_type": "display_data"
        },
        {
          "data": {
            "text/html": [
              " View run at <a href='https://wandb.ai/na21b075-indian-institute-of-technology-madras/wandb/runs/rigkuoip' target=\"_blank\">https://wandb.ai/na21b075-indian-institute-of-technology-madras/wandb/runs/rigkuoip</a>"
            ],
            "text/plain": [
              "<IPython.core.display.HTML object>"
            ]
          },
          "metadata": {},
          "output_type": "display_data"
        },
        {
          "metadata": {
            "tags": null
          },
          "name": "stdout",
          "output_type": "stream",
          "text": [
            "Epoch: 1\n",
            "     Accuracy 14.674074074074074\n",
            "Epoch: 2\n",
            "     Accuracy 14.674074074074074\n",
            "Epoch: 3\n",
            "     Accuracy 14.674074074074074\n",
            "Epoch: 4\n",
            "     Accuracy 14.674074074074074\n",
            "Epoch: 5\n",
            "     Accuracy 14.674074074074074\n"
          ]
        },
        {
          "data": {
            "text/html": [],
            "text/plain": [
              "<IPython.core.display.HTML object>"
            ]
          },
          "metadata": {},
          "output_type": "display_data"
        },
        {
          "data": {
            "text/html": [
              "<br>    <style><br>        .wandb-row {<br>            display: flex;<br>            flex-direction: row;<br>            flex-wrap: wrap;<br>            justify-content: flex-start;<br>            width: 100%;<br>        }<br>        .wandb-col {<br>            display: flex;<br>            flex-direction: column;<br>            flex-basis: 100%;<br>            flex: 1;<br>            padding: 10px;<br>        }<br>    </style><br><div class=\"wandb-row\"><div class=\"wandb-col\"><h3>Run history:</h3><br/><table class=\"wandb\"><tr><td>accuracy</td><td>▁▁▁▁▁</td></tr><tr><td>epoch</td><td>▁▃▅▆█</td></tr></table><br/></div><div class=\"wandb-col\"><h3>Run summary:</h3><br/><table class=\"wandb\"><tr><td>accuracy</td><td>14.67407</td></tr><tr><td>epoch</td><td>4</td></tr></table><br/></div></div>"
            ],
            "text/plain": [
              "<IPython.core.display.HTML object>"
            ]
          },
          "metadata": {},
          "output_type": "display_data"
        },
        {
          "data": {
            "text/html": [
              " View run <strong style=\"color:#cdcd00\">cross_entropy_hl4_bs_64_ac_tanh</strong> at: <a href='https://wandb.ai/na21b075-indian-institute-of-technology-madras/wandb/runs/rigkuoip' target=\"_blank\">https://wandb.ai/na21b075-indian-institute-of-technology-madras/wandb/runs/rigkuoip</a><br> View project at: <a href='https://wandb.ai/na21b075-indian-institute-of-technology-madras/wandb' target=\"_blank\">https://wandb.ai/na21b075-indian-institute-of-technology-madras/wandb</a><br>Synced 5 W&B file(s), 1 media file(s), 2 artifact file(s) and 0 other file(s)"
            ],
            "text/plain": [
              "<IPython.core.display.HTML object>"
            ]
          },
          "metadata": {},
          "output_type": "display_data"
        },
        {
          "data": {
            "text/html": [
              "Find logs at: <code>./wandb/run-20250317_115223-rigkuoip/logs</code>"
            ],
            "text/plain": [
              "<IPython.core.display.HTML object>"
            ]
          },
          "metadata": {},
          "output_type": "display_data"
        },
        {
          "data": {
            "text/html": [
              "Tracking run with wandb version 0.19.8"
            ],
            "text/plain": [
              "<IPython.core.display.HTML object>"
            ]
          },
          "metadata": {},
          "output_type": "display_data"
        },
        {
          "data": {
            "text/html": [
              "Run data is saved locally in <code>/content/wandb/run-20250317_120221-t8wfumhj</code>"
            ],
            "text/plain": [
              "<IPython.core.display.HTML object>"
            ]
          },
          "metadata": {},
          "output_type": "display_data"
        },
        {
          "data": {
            "text/html": [
              "Syncing run <strong><a href='https://wandb.ai/na21b075-indian-institute-of-technology-madras/wandb/runs/t8wfumhj' target=\"_blank\">clean-sound-36</a></strong> to <a href='https://wandb.ai/na21b075-indian-institute-of-technology-madras/wandb' target=\"_blank\">Weights & Biases</a> (<a href='https://wandb.me/developer-guide' target=\"_blank\">docs</a>)<br>"
            ],
            "text/plain": [
              "<IPython.core.display.HTML object>"
            ]
          },
          "metadata": {},
          "output_type": "display_data"
        },
        {
          "data": {
            "text/html": [
              " View project at <a href='https://wandb.ai/na21b075-indian-institute-of-technology-madras/wandb' target=\"_blank\">https://wandb.ai/na21b075-indian-institute-of-technology-madras/wandb</a>"
            ],
            "text/plain": [
              "<IPython.core.display.HTML object>"
            ]
          },
          "metadata": {},
          "output_type": "display_data"
        },
        {
          "data": {
            "text/html": [
              " View run at <a href='https://wandb.ai/na21b075-indian-institute-of-technology-madras/wandb/runs/t8wfumhj' target=\"_blank\">https://wandb.ai/na21b075-indian-institute-of-technology-madras/wandb/runs/t8wfumhj</a>"
            ],
            "text/plain": [
              "<IPython.core.display.HTML object>"
            ]
          },
          "metadata": {},
          "output_type": "display_data"
        },
        {
          "metadata": {
            "tags": null
          },
          "name": "stdout",
          "output_type": "stream",
          "text": [
            "Epoch: 1\n",
            "     Accuracy 9.916666666666666\n",
            "Epoch: 2\n",
            "     Accuracy 9.905555555555555\n",
            "Epoch: 3\n",
            "     Accuracy 9.83148148148148\n",
            "Epoch: 4\n",
            "     Accuracy 9.824074074074074\n",
            "Epoch: 5\n",
            "     Accuracy 9.862962962962962\n"
          ]
        },
        {
          "data": {
            "text/html": [],
            "text/plain": [
              "<IPython.core.display.HTML object>"
            ]
          },
          "metadata": {},
          "output_type": "display_data"
        },
        {
          "data": {
            "text/html": [
              "<br>    <style><br>        .wandb-row {<br>            display: flex;<br>            flex-direction: row;<br>            flex-wrap: wrap;<br>            justify-content: flex-start;<br>            width: 100%;<br>        }<br>        .wandb-col {<br>            display: flex;<br>            flex-direction: column;<br>            flex-basis: 100%;<br>            flex: 1;<br>            padding: 10px;<br>        }<br>    </style><br><div class=\"wandb-row\"><div class=\"wandb-col\"><h3>Run history:</h3><br/><table class=\"wandb\"><tr><td>accuracy</td><td>█▇▂▁▄</td></tr><tr><td>epoch</td><td>▁▃▅▆█</td></tr></table><br/></div><div class=\"wandb-col\"><h3>Run summary:</h3><br/><table class=\"wandb\"><tr><td>accuracy</td><td>9.86296</td></tr><tr><td>epoch</td><td>4</td></tr></table><br/></div></div>"
            ],
            "text/plain": [
              "<IPython.core.display.HTML object>"
            ]
          },
          "metadata": {},
          "output_type": "display_data"
        },
        {
          "data": {
            "text/html": [
              " View run <strong style=\"color:#cdcd00\">cross_entropy_hl4_bs_64_ac_relu</strong> at: <a href='https://wandb.ai/na21b075-indian-institute-of-technology-madras/wandb/runs/t8wfumhj' target=\"_blank\">https://wandb.ai/na21b075-indian-institute-of-technology-madras/wandb/runs/t8wfumhj</a><br> View project at: <a href='https://wandb.ai/na21b075-indian-institute-of-technology-madras/wandb' target=\"_blank\">https://wandb.ai/na21b075-indian-institute-of-technology-madras/wandb</a><br>Synced 5 W&B file(s), 1 media file(s), 2 artifact file(s) and 0 other file(s)"
            ],
            "text/plain": [
              "<IPython.core.display.HTML object>"
            ]
          },
          "metadata": {},
          "output_type": "display_data"
        },
        {
          "data": {
            "text/html": [
              "Find logs at: <code>./wandb/run-20250317_120221-t8wfumhj/logs</code>"
            ],
            "text/plain": [
              "<IPython.core.display.HTML object>"
            ]
          },
          "metadata": {},
          "output_type": "display_data"
        },
        {
          "data": {
            "text/html": [
              "Tracking run with wandb version 0.19.8"
            ],
            "text/plain": [
              "<IPython.core.display.HTML object>"
            ]
          },
          "metadata": {},
          "output_type": "display_data"
        },
        {
          "data": {
            "text/html": [
              "Run data is saved locally in <code>/content/wandb/run-20250317_121232-z8r3rr21</code>"
            ],
            "text/plain": [
              "<IPython.core.display.HTML object>"
            ]
          },
          "metadata": {},
          "output_type": "display_data"
        },
        {
          "data": {
            "text/html": [
              "Syncing run <strong><a href='https://wandb.ai/na21b075-indian-institute-of-technology-madras/wandb/runs/z8r3rr21' target=\"_blank\">wise-tree-37</a></strong> to <a href='https://wandb.ai/na21b075-indian-institute-of-technology-madras/wandb' target=\"_blank\">Weights & Biases</a> (<a href='https://wandb.me/developer-guide' target=\"_blank\">docs</a>)<br>"
            ],
            "text/plain": [
              "<IPython.core.display.HTML object>"
            ]
          },
          "metadata": {},
          "output_type": "display_data"
        },
        {
          "data": {
            "text/html": [
              " View project at <a href='https://wandb.ai/na21b075-indian-institute-of-technology-madras/wandb' target=\"_blank\">https://wandb.ai/na21b075-indian-institute-of-technology-madras/wandb</a>"
            ],
            "text/plain": [
              "<IPython.core.display.HTML object>"
            ]
          },
          "metadata": {},
          "output_type": "display_data"
        },
        {
          "data": {
            "text/html": [
              " View run at <a href='https://wandb.ai/na21b075-indian-institute-of-technology-madras/wandb/runs/z8r3rr21' target=\"_blank\">https://wandb.ai/na21b075-indian-institute-of-technology-madras/wandb/runs/z8r3rr21</a>"
            ],
            "text/plain": [
              "<IPython.core.display.HTML object>"
            ]
          },
          "metadata": {},
          "output_type": "display_data"
        },
        {
          "metadata": {
            "tags": null
          },
          "name": "stdout",
          "output_type": "stream",
          "text": [
            "Epoch: 1\n",
            "     Accuracy 43.153703703703705\n",
            "Epoch: 2\n",
            "     Accuracy 48.14074074074074\n",
            "Epoch: 3\n",
            "     Accuracy 51.37592592592593\n",
            "Epoch: 4\n",
            "     Accuracy 52.346296296296295\n",
            "Epoch: 5\n",
            "     Accuracy 57.138888888888886\n"
          ]
        },
        {
          "data": {
            "text/html": [],
            "text/plain": [
              "<IPython.core.display.HTML object>"
            ]
          },
          "metadata": {},
          "output_type": "display_data"
        },
        {
          "data": {
            "text/html": [
              "<br>    <style><br>        .wandb-row {<br>            display: flex;<br>            flex-direction: row;<br>            flex-wrap: wrap;<br>            justify-content: flex-start;<br>            width: 100%;<br>        }<br>        .wandb-col {<br>            display: flex;<br>            flex-direction: column;<br>            flex-basis: 100%;<br>            flex: 1;<br>            padding: 10px;<br>        }<br>    </style><br><div class=\"wandb-row\"><div class=\"wandb-col\"><h3>Run history:</h3><br/><table class=\"wandb\"><tr><td>accuracy</td><td>▁▃▅▆█</td></tr><tr><td>epoch</td><td>▁▃▅▆█</td></tr></table><br/></div><div class=\"wandb-col\"><h3>Run summary:</h3><br/><table class=\"wandb\"><tr><td>accuracy</td><td>57.13889</td></tr><tr><td>epoch</td><td>4</td></tr></table><br/></div></div>"
            ],
            "text/plain": [
              "<IPython.core.display.HTML object>"
            ]
          },
          "metadata": {},
          "output_type": "display_data"
        },
        {
          "data": {
            "text/html": [
              " View run <strong style=\"color:#cdcd00\">cross_entropy_hl2_bs_64_ac_tanh</strong> at: <a href='https://wandb.ai/na21b075-indian-institute-of-technology-madras/wandb/runs/z8r3rr21' target=\"_blank\">https://wandb.ai/na21b075-indian-institute-of-technology-madras/wandb/runs/z8r3rr21</a><br> View project at: <a href='https://wandb.ai/na21b075-indian-institute-of-technology-madras/wandb' target=\"_blank\">https://wandb.ai/na21b075-indian-institute-of-technology-madras/wandb</a><br>Synced 5 W&B file(s), 1 media file(s), 2 artifact file(s) and 0 other file(s)"
            ],
            "text/plain": [
              "<IPython.core.display.HTML object>"
            ]
          },
          "metadata": {},
          "output_type": "display_data"
        },
        {
          "data": {
            "text/html": [
              "Find logs at: <code>./wandb/run-20250317_121232-z8r3rr21/logs</code>"
            ],
            "text/plain": [
              "<IPython.core.display.HTML object>"
            ]
          },
          "metadata": {},
          "output_type": "display_data"
        },
        {
          "data": {
            "text/html": [
              "Tracking run with wandb version 0.19.8"
            ],
            "text/plain": [
              "<IPython.core.display.HTML object>"
            ]
          },
          "metadata": {},
          "output_type": "display_data"
        },
        {
          "data": {
            "text/html": [
              "Run data is saved locally in <code>/content/wandb/run-20250317_121645-bxsqaj7z</code>"
            ],
            "text/plain": [
              "<IPython.core.display.HTML object>"
            ]
          },
          "metadata": {},
          "output_type": "display_data"
        },
        {
          "data": {
            "text/html": [
              "Syncing run <strong><a href='https://wandb.ai/na21b075-indian-institute-of-technology-madras/wandb/runs/bxsqaj7z' target=\"_blank\">pleasant-sponge-38</a></strong> to <a href='https://wandb.ai/na21b075-indian-institute-of-technology-madras/wandb' target=\"_blank\">Weights & Biases</a> (<a href='https://wandb.me/developer-guide' target=\"_blank\">docs</a>)<br>"
            ],
            "text/plain": [
              "<IPython.core.display.HTML object>"
            ]
          },
          "metadata": {},
          "output_type": "display_data"
        },
        {
          "data": {
            "text/html": [
              " View project at <a href='https://wandb.ai/na21b075-indian-institute-of-technology-madras/wandb' target=\"_blank\">https://wandb.ai/na21b075-indian-institute-of-technology-madras/wandb</a>"
            ],
            "text/plain": [
              "<IPython.core.display.HTML object>"
            ]
          },
          "metadata": {},
          "output_type": "display_data"
        },
        {
          "data": {
            "text/html": [
              " View run at <a href='https://wandb.ai/na21b075-indian-institute-of-technology-madras/wandb/runs/bxsqaj7z' target=\"_blank\">https://wandb.ai/na21b075-indian-institute-of-technology-madras/wandb/runs/bxsqaj7z</a>"
            ],
            "text/plain": [
              "<IPython.core.display.HTML object>"
            ]
          },
          "metadata": {},
          "output_type": "display_data"
        },
        {
          "metadata": {
            "tags": null
          },
          "name": "stdout",
          "output_type": "stream",
          "text": [
            "Epoch: 1\n",
            "     Accuracy 9.985185185185186\n",
            "Epoch: 2\n",
            "     Accuracy 9.985185185185186\n",
            "Epoch: 3\n",
            "     Accuracy 9.985185185185186\n",
            "Epoch: 4\n",
            "     Accuracy 9.985185185185186\n",
            "Epoch: 5\n",
            "     Accuracy 9.985185185185186\n",
            "Epoch: 6\n",
            "     Accuracy 9.985185185185186\n",
            "Epoch: 7\n",
            "     Accuracy 9.985185185185186\n",
            "Epoch: 8\n",
            "     Accuracy 9.985185185185186\n",
            "Epoch: 9\n",
            "     Accuracy 9.985185185185186\n",
            "Epoch: 10\n",
            "     Accuracy 9.985185185185186\n"
          ]
        },
        {
          "data": {
            "text/html": [],
            "text/plain": [
              "<IPython.core.display.HTML object>"
            ]
          },
          "metadata": {},
          "output_type": "display_data"
        },
        {
          "data": {
            "text/html": [
              "<br>    <style><br>        .wandb-row {<br>            display: flex;<br>            flex-direction: row;<br>            flex-wrap: wrap;<br>            justify-content: flex-start;<br>            width: 100%;<br>        }<br>        .wandb-col {<br>            display: flex;<br>            flex-direction: column;<br>            flex-basis: 100%;<br>            flex: 1;<br>            padding: 10px;<br>        }<br>    </style><br><div class=\"wandb-row\"><div class=\"wandb-col\"><h3>Run history:</h3><br/><table class=\"wandb\"><tr><td>accuracy</td><td>▁▁▁▁▁▁▁▁▁▁</td></tr><tr><td>epoch</td><td>▁▂▃▃▄▅▆▆▇█</td></tr></table><br/></div><div class=\"wandb-col\"><h3>Run summary:</h3><br/><table class=\"wandb\"><tr><td>accuracy</td><td>9.98519</td></tr><tr><td>epoch</td><td>9</td></tr></table><br/></div></div>"
            ],
            "text/plain": [
              "<IPython.core.display.HTML object>"
            ]
          },
          "metadata": {},
          "output_type": "display_data"
        },
        {
          "data": {
            "text/html": [
              " View run <strong style=\"color:#cdcd00\">cross_entropy_hl5_bs_64_ac_sigmoid</strong> at: <a href='https://wandb.ai/na21b075-indian-institute-of-technology-madras/wandb/runs/bxsqaj7z' target=\"_blank\">https://wandb.ai/na21b075-indian-institute-of-technology-madras/wandb/runs/bxsqaj7z</a><br> View project at: <a href='https://wandb.ai/na21b075-indian-institute-of-technology-madras/wandb' target=\"_blank\">https://wandb.ai/na21b075-indian-institute-of-technology-madras/wandb</a><br>Synced 5 W&B file(s), 1 media file(s), 2 artifact file(s) and 0 other file(s)"
            ],
            "text/plain": [
              "<IPython.core.display.HTML object>"
            ]
          },
          "metadata": {},
          "output_type": "display_data"
        },
        {
          "data": {
            "text/html": [
              "Find logs at: <code>./wandb/run-20250317_121645-bxsqaj7z/logs</code>"
            ],
            "text/plain": [
              "<IPython.core.display.HTML object>"
            ]
          },
          "metadata": {},
          "output_type": "display_data"
        },
        {
          "data": {
            "text/html": [
              "Tracking run with wandb version 0.19.8"
            ],
            "text/plain": [
              "<IPython.core.display.HTML object>"
            ]
          },
          "metadata": {},
          "output_type": "display_data"
        },
        {
          "data": {
            "text/html": [
              "Run data is saved locally in <code>/content/wandb/run-20250317_122432-nwtd6lno</code>"
            ],
            "text/plain": [
              "<IPython.core.display.HTML object>"
            ]
          },
          "metadata": {},
          "output_type": "display_data"
        },
        {
          "data": {
            "text/html": [
              "Syncing run <strong><a href='https://wandb.ai/na21b075-indian-institute-of-technology-madras/wandb/runs/nwtd6lno' target=\"_blank\">lilac-jazz-39</a></strong> to <a href='https://wandb.ai/na21b075-indian-institute-of-technology-madras/wandb' target=\"_blank\">Weights & Biases</a> (<a href='https://wandb.me/developer-guide' target=\"_blank\">docs</a>)<br>"
            ],
            "text/plain": [
              "<IPython.core.display.HTML object>"
            ]
          },
          "metadata": {},
          "output_type": "display_data"
        },
        {
          "data": {
            "text/html": [
              " View project at <a href='https://wandb.ai/na21b075-indian-institute-of-technology-madras/wandb' target=\"_blank\">https://wandb.ai/na21b075-indian-institute-of-technology-madras/wandb</a>"
            ],
            "text/plain": [
              "<IPython.core.display.HTML object>"
            ]
          },
          "metadata": {},
          "output_type": "display_data"
        },
        {
          "data": {
            "text/html": [
              " View run at <a href='https://wandb.ai/na21b075-indian-institute-of-technology-madras/wandb/runs/nwtd6lno' target=\"_blank\">https://wandb.ai/na21b075-indian-institute-of-technology-madras/wandb/runs/nwtd6lno</a>"
            ],
            "text/plain": [
              "<IPython.core.display.HTML object>"
            ]
          },
          "metadata": {},
          "output_type": "display_data"
        },
        {
          "metadata": {
            "tags": null
          },
          "name": "stdout",
          "output_type": "stream",
          "text": [
            "Epoch: 1\n",
            "     Accuracy 75.87037037037037\n",
            "Epoch: 2\n",
            "     Accuracy 85.4888888888889\n",
            "Epoch: 3\n",
            "     Accuracy 86.9462962962963\n",
            "Epoch: 4\n",
            "     Accuracy 87.7\n",
            "Epoch: 5\n",
            "     Accuracy 88.30555555555556\n"
          ]
        },
        {
          "data": {
            "text/html": [],
            "text/plain": [
              "<IPython.core.display.HTML object>"
            ]
          },
          "metadata": {},
          "output_type": "display_data"
        },
        {
          "data": {
            "text/html": [
              "<br>    <style><br>        .wandb-row {<br>            display: flex;<br>            flex-direction: row;<br>            flex-wrap: wrap;<br>            justify-content: flex-start;<br>            width: 100%;<br>        }<br>        .wandb-col {<br>            display: flex;<br>            flex-direction: column;<br>            flex-basis: 100%;<br>            flex: 1;<br>            padding: 10px;<br>        }<br>    </style><br><div class=\"wandb-row\"><div class=\"wandb-col\"><h3>Run history:</h3><br/><table class=\"wandb\"><tr><td>accuracy</td><td>▁▆▇██</td></tr><tr><td>epoch</td><td>▁▃▅▆█</td></tr></table><br/></div><div class=\"wandb-col\"><h3>Run summary:</h3><br/><table class=\"wandb\"><tr><td>accuracy</td><td>88.30556</td></tr><tr><td>epoch</td><td>4</td></tr></table><br/></div></div>"
            ],
            "text/plain": [
              "<IPython.core.display.HTML object>"
            ]
          },
          "metadata": {},
          "output_type": "display_data"
        },
        {
          "data": {
            "text/html": [
              " View run <strong style=\"color:#cdcd00\">mse_hl3_bs_64_ac_relu</strong> at: <a href='https://wandb.ai/na21b075-indian-institute-of-technology-madras/wandb/runs/nwtd6lno' target=\"_blank\">https://wandb.ai/na21b075-indian-institute-of-technology-madras/wandb/runs/nwtd6lno</a><br> View project at: <a href='https://wandb.ai/na21b075-indian-institute-of-technology-madras/wandb' target=\"_blank\">https://wandb.ai/na21b075-indian-institute-of-technology-madras/wandb</a><br>Synced 5 W&B file(s), 1 media file(s), 2 artifact file(s) and 0 other file(s)"
            ],
            "text/plain": [
              "<IPython.core.display.HTML object>"
            ]
          },
          "metadata": {},
          "output_type": "display_data"
        },
        {
          "data": {
            "text/html": [
              "Find logs at: <code>./wandb/run-20250317_122432-nwtd6lno/logs</code>"
            ],
            "text/plain": [
              "<IPython.core.display.HTML object>"
            ]
          },
          "metadata": {},
          "output_type": "display_data"
        },
        {
          "data": {
            "text/html": [
              "Tracking run with wandb version 0.19.8"
            ],
            "text/plain": [
              "<IPython.core.display.HTML object>"
            ]
          },
          "metadata": {},
          "output_type": "display_data"
        },
        {
          "data": {
            "text/html": [
              "Run data is saved locally in <code>/content/wandb/run-20250317_122932-cyp515pg</code>"
            ],
            "text/plain": [
              "<IPython.core.display.HTML object>"
            ]
          },
          "metadata": {},
          "output_type": "display_data"
        },
        {
          "data": {
            "text/html": [
              "Syncing run <strong><a href='https://wandb.ai/na21b075-indian-institute-of-technology-madras/wandb/runs/cyp515pg' target=\"_blank\">rich-bush-40</a></strong> to <a href='https://wandb.ai/na21b075-indian-institute-of-technology-madras/wandb' target=\"_blank\">Weights & Biases</a> (<a href='https://wandb.me/developer-guide' target=\"_blank\">docs</a>)<br>"
            ],
            "text/plain": [
              "<IPython.core.display.HTML object>"
            ]
          },
          "metadata": {},
          "output_type": "display_data"
        },
        {
          "data": {
            "text/html": [
              " View project at <a href='https://wandb.ai/na21b075-indian-institute-of-technology-madras/wandb' target=\"_blank\">https://wandb.ai/na21b075-indian-institute-of-technology-madras/wandb</a>"
            ],
            "text/plain": [
              "<IPython.core.display.HTML object>"
            ]
          },
          "metadata": {},
          "output_type": "display_data"
        },
        {
          "data": {
            "text/html": [
              " View run at <a href='https://wandb.ai/na21b075-indian-institute-of-technology-madras/wandb/runs/cyp515pg' target=\"_blank\">https://wandb.ai/na21b075-indian-institute-of-technology-madras/wandb/runs/cyp515pg</a>"
            ],
            "text/plain": [
              "<IPython.core.display.HTML object>"
            ]
          },
          "metadata": {},
          "output_type": "display_data"
        },
        {
          "metadata": {
            "tags": null
          },
          "name": "stdout",
          "output_type": "stream",
          "text": [
            "Epoch: 1\n",
            "     Accuracy 79.41481481481482\n",
            "Epoch: 2\n",
            "     Accuracy 85.16851851851852\n",
            "Epoch: 3\n",
            "     Accuracy 86.54074074074074\n",
            "Epoch: 4\n",
            "     Accuracy 87.40185185185184\n",
            "Epoch: 5\n",
            "     Accuracy 87.87407407407407\n"
          ]
        },
        {
          "data": {
            "text/html": [],
            "text/plain": [
              "<IPython.core.display.HTML object>"
            ]
          },
          "metadata": {},
          "output_type": "display_data"
        },
        {
          "data": {
            "text/html": [
              "<br>    <style><br>        .wandb-row {<br>            display: flex;<br>            flex-direction: row;<br>            flex-wrap: wrap;<br>            justify-content: flex-start;<br>            width: 100%;<br>        }<br>        .wandb-col {<br>            display: flex;<br>            flex-direction: column;<br>            flex-basis: 100%;<br>            flex: 1;<br>            padding: 10px;<br>        }<br>    </style><br><div class=\"wandb-row\"><div class=\"wandb-col\"><h3>Run history:</h3><br/><table class=\"wandb\"><tr><td>accuracy</td><td>▁▆▇██</td></tr><tr><td>epoch</td><td>▁▃▅▆█</td></tr></table><br/></div><div class=\"wandb-col\"><h3>Run summary:</h3><br/><table class=\"wandb\"><tr><td>accuracy</td><td>87.87407</td></tr><tr><td>epoch</td><td>4</td></tr></table><br/></div></div>"
            ],
            "text/plain": [
              "<IPython.core.display.HTML object>"
            ]
          },
          "metadata": {},
          "output_type": "display_data"
        },
        {
          "data": {
            "text/html": [
              " View run <strong style=\"color:#cdcd00\">mse_hl2_bs_32_ac_sigmoid</strong> at: <a href='https://wandb.ai/na21b075-indian-institute-of-technology-madras/wandb/runs/cyp515pg' target=\"_blank\">https://wandb.ai/na21b075-indian-institute-of-technology-madras/wandb/runs/cyp515pg</a><br> View project at: <a href='https://wandb.ai/na21b075-indian-institute-of-technology-madras/wandb' target=\"_blank\">https://wandb.ai/na21b075-indian-institute-of-technology-madras/wandb</a><br>Synced 5 W&B file(s), 1 media file(s), 2 artifact file(s) and 0 other file(s)"
            ],
            "text/plain": [
              "<IPython.core.display.HTML object>"
            ]
          },
          "metadata": {},
          "output_type": "display_data"
        },
        {
          "data": {
            "text/html": [
              "Find logs at: <code>./wandb/run-20250317_122932-cyp515pg/logs</code>"
            ],
            "text/plain": [
              "<IPython.core.display.HTML object>"
            ]
          },
          "metadata": {},
          "output_type": "display_data"
        },
        {
          "data": {
            "text/html": [
              "Tracking run with wandb version 0.19.8"
            ],
            "text/plain": [
              "<IPython.core.display.HTML object>"
            ]
          },
          "metadata": {},
          "output_type": "display_data"
        },
        {
          "data": {
            "text/html": [
              "Run data is saved locally in <code>/content/wandb/run-20250317_123233-fcl8ye4a</code>"
            ],
            "text/plain": [
              "<IPython.core.display.HTML object>"
            ]
          },
          "metadata": {},
          "output_type": "display_data"
        },
        {
          "data": {
            "text/html": [
              "Syncing run <strong><a href='https://wandb.ai/na21b075-indian-institute-of-technology-madras/wandb/runs/fcl8ye4a' target=\"_blank\">revived-meadow-41</a></strong> to <a href='https://wandb.ai/na21b075-indian-institute-of-technology-madras/wandb' target=\"_blank\">Weights & Biases</a> (<a href='https://wandb.me/developer-guide' target=\"_blank\">docs</a>)<br>"
            ],
            "text/plain": [
              "<IPython.core.display.HTML object>"
            ]
          },
          "metadata": {},
          "output_type": "display_data"
        },
        {
          "data": {
            "text/html": [
              " View project at <a href='https://wandb.ai/na21b075-indian-institute-of-technology-madras/wandb' target=\"_blank\">https://wandb.ai/na21b075-indian-institute-of-technology-madras/wandb</a>"
            ],
            "text/plain": [
              "<IPython.core.display.HTML object>"
            ]
          },
          "metadata": {},
          "output_type": "display_data"
        },
        {
          "data": {
            "text/html": [
              " View run at <a href='https://wandb.ai/na21b075-indian-institute-of-technology-madras/wandb/runs/fcl8ye4a' target=\"_blank\">https://wandb.ai/na21b075-indian-institute-of-technology-madras/wandb/runs/fcl8ye4a</a>"
            ],
            "text/plain": [
              "<IPython.core.display.HTML object>"
            ]
          },
          "metadata": {},
          "output_type": "display_data"
        },
        {
          "metadata": {
            "tags": null
          },
          "name": "stdout",
          "output_type": "stream",
          "text": [
            "Epoch: 1\n",
            "     Accuracy 3.4407407407407407\n",
            "Epoch: 2\n",
            "     Accuracy 3.4407407407407407\n",
            "Epoch: 3\n",
            "     Accuracy 3.4407407407407407\n",
            "Epoch: 4\n",
            "     Accuracy 3.4407407407407407\n",
            "Epoch: 5\n",
            "     Accuracy 3.4407407407407407\n",
            "Epoch: 6\n",
            "     Accuracy 3.4407407407407407\n",
            "Epoch: 7\n",
            "     Accuracy 3.4407407407407407\n",
            "Epoch: 8\n",
            "     Accuracy 3.4407407407407407\n",
            "Epoch: 9\n",
            "     Accuracy 3.4407407407407407\n",
            "Epoch: 10\n",
            "     Accuracy 3.4407407407407407\n"
          ]
        },
        {
          "data": {
            "text/html": [],
            "text/plain": [
              "<IPython.core.display.HTML object>"
            ]
          },
          "metadata": {},
          "output_type": "display_data"
        },
        {
          "data": {
            "text/html": [
              "<br>    <style><br>        .wandb-row {<br>            display: flex;<br>            flex-direction: row;<br>            flex-wrap: wrap;<br>            justify-content: flex-start;<br>            width: 100%;<br>        }<br>        .wandb-col {<br>            display: flex;<br>            flex-direction: column;<br>            flex-basis: 100%;<br>            flex: 1;<br>            padding: 10px;<br>        }<br>    </style><br><div class=\"wandb-row\"><div class=\"wandb-col\"><h3>Run history:</h3><br/><table class=\"wandb\"><tr><td>accuracy</td><td>▁▁▁▁▁▁▁▁▁▁</td></tr><tr><td>epoch</td><td>▁▂▃▃▄▅▆▆▇█</td></tr></table><br/></div><div class=\"wandb-col\"><h3>Run summary:</h3><br/><table class=\"wandb\"><tr><td>accuracy</td><td>3.44074</td></tr><tr><td>epoch</td><td>9</td></tr></table><br/></div></div>"
            ],
            "text/plain": [
              "<IPython.core.display.HTML object>"
            ]
          },
          "metadata": {},
          "output_type": "display_data"
        },
        {
          "data": {
            "text/html": [
              " View run <strong style=\"color:#cdcd00\">cross_entropy_hl5_bs_64_ac_relu</strong> at: <a href='https://wandb.ai/na21b075-indian-institute-of-technology-madras/wandb/runs/fcl8ye4a' target=\"_blank\">https://wandb.ai/na21b075-indian-institute-of-technology-madras/wandb/runs/fcl8ye4a</a><br> View project at: <a href='https://wandb.ai/na21b075-indian-institute-of-technology-madras/wandb' target=\"_blank\">https://wandb.ai/na21b075-indian-institute-of-technology-madras/wandb</a><br>Synced 5 W&B file(s), 1 media file(s), 2 artifact file(s) and 0 other file(s)"
            ],
            "text/plain": [
              "<IPython.core.display.HTML object>"
            ]
          },
          "metadata": {},
          "output_type": "display_data"
        },
        {
          "data": {
            "text/html": [
              "Find logs at: <code>./wandb/run-20250317_123233-fcl8ye4a/logs</code>"
            ],
            "text/plain": [
              "<IPython.core.display.HTML object>"
            ]
          },
          "metadata": {},
          "output_type": "display_data"
        },
        {
          "data": {
            "text/html": [
              "Tracking run with wandb version 0.19.8"
            ],
            "text/plain": [
              "<IPython.core.display.HTML object>"
            ]
          },
          "metadata": {},
          "output_type": "display_data"
        },
        {
          "data": {
            "text/html": [
              "Run data is saved locally in <code>/content/wandb/run-20250317_125459-qetch3t6</code>"
            ],
            "text/plain": [
              "<IPython.core.display.HTML object>"
            ]
          },
          "metadata": {},
          "output_type": "display_data"
        },
        {
          "data": {
            "text/html": [
              "Syncing run <strong><a href='https://wandb.ai/na21b075-indian-institute-of-technology-madras/wandb/runs/qetch3t6' target=\"_blank\">sleek-frost-42</a></strong> to <a href='https://wandb.ai/na21b075-indian-institute-of-technology-madras/wandb' target=\"_blank\">Weights & Biases</a> (<a href='https://wandb.me/developer-guide' target=\"_blank\">docs</a>)<br>"
            ],
            "text/plain": [
              "<IPython.core.display.HTML object>"
            ]
          },
          "metadata": {},
          "output_type": "display_data"
        },
        {
          "data": {
            "text/html": [
              " View project at <a href='https://wandb.ai/na21b075-indian-institute-of-technology-madras/wandb' target=\"_blank\">https://wandb.ai/na21b075-indian-institute-of-technology-madras/wandb</a>"
            ],
            "text/plain": [
              "<IPython.core.display.HTML object>"
            ]
          },
          "metadata": {},
          "output_type": "display_data"
        },
        {
          "data": {
            "text/html": [
              " View run at <a href='https://wandb.ai/na21b075-indian-institute-of-technology-madras/wandb/runs/qetch3t6' target=\"_blank\">https://wandb.ai/na21b075-indian-institute-of-technology-madras/wandb/runs/qetch3t6</a>"
            ],
            "text/plain": [
              "<IPython.core.display.HTML object>"
            ]
          },
          "metadata": {},
          "output_type": "display_data"
        },
        {
          "metadata": {
            "tags": null
          },
          "name": "stdout",
          "output_type": "stream",
          "text": [
            "Epoch: 1\n",
            "     Accuracy 10.74074074074074\n",
            "Epoch: 2\n",
            "     Accuracy 16.36111111111111\n",
            "Epoch: 3\n",
            "     Accuracy 21.425925925925927\n",
            "Epoch: 4\n",
            "     Accuracy 44.52407407407407\n",
            "Epoch: 5\n",
            "     Accuracy 63.80555555555556\n"
          ]
        },
        {
          "data": {
            "text/html": [],
            "text/plain": [
              "<IPython.core.display.HTML object>"
            ]
          },
          "metadata": {},
          "output_type": "display_data"
        },
        {
          "data": {
            "text/html": [
              "<br>    <style><br>        .wandb-row {<br>            display: flex;<br>            flex-direction: row;<br>            flex-wrap: wrap;<br>            justify-content: flex-start;<br>            width: 100%;<br>        }<br>        .wandb-col {<br>            display: flex;<br>            flex-direction: column;<br>            flex-basis: 100%;<br>            flex: 1;<br>            padding: 10px;<br>        }<br>    </style><br><div class=\"wandb-row\"><div class=\"wandb-col\"><h3>Run history:</h3><br/><table class=\"wandb\"><tr><td>accuracy</td><td>▁▂▂▅█</td></tr><tr><td>epoch</td><td>▁▃▅▆█</td></tr></table><br/></div><div class=\"wandb-col\"><h3>Run summary:</h3><br/><table class=\"wandb\"><tr><td>accuracy</td><td>63.80556</td></tr><tr><td>epoch</td><td>4</td></tr></table><br/></div></div>"
            ],
            "text/plain": [
              "<IPython.core.display.HTML object>"
            ]
          },
          "metadata": {},
          "output_type": "display_data"
        },
        {
          "data": {
            "text/html": [
              " View run <strong style=\"color:#cdcd00\">cross_entropy_hl3_bs_32_ac_tanh</strong> at: <a href='https://wandb.ai/na21b075-indian-institute-of-technology-madras/wandb/runs/qetch3t6' target=\"_blank\">https://wandb.ai/na21b075-indian-institute-of-technology-madras/wandb/runs/qetch3t6</a><br> View project at: <a href='https://wandb.ai/na21b075-indian-institute-of-technology-madras/wandb' target=\"_blank\">https://wandb.ai/na21b075-indian-institute-of-technology-madras/wandb</a><br>Synced 5 W&B file(s), 1 media file(s), 2 artifact file(s) and 0 other file(s)"
            ],
            "text/plain": [
              "<IPython.core.display.HTML object>"
            ]
          },
          "metadata": {},
          "output_type": "display_data"
        },
        {
          "data": {
            "text/html": [
              "Find logs at: <code>./wandb/run-20250317_125459-qetch3t6/logs</code>"
            ],
            "text/plain": [
              "<IPython.core.display.HTML object>"
            ]
          },
          "metadata": {},
          "output_type": "display_data"
        },
        {
          "data": {
            "text/html": [
              "Tracking run with wandb version 0.19.8"
            ],
            "text/plain": [
              "<IPython.core.display.HTML object>"
            ]
          },
          "metadata": {},
          "output_type": "display_data"
        },
        {
          "data": {
            "text/html": [
              "Run data is saved locally in <code>/content/wandb/run-20250317_130348-zl713lep</code>"
            ],
            "text/plain": [
              "<IPython.core.display.HTML object>"
            ]
          },
          "metadata": {},
          "output_type": "display_data"
        },
        {
          "data": {
            "text/html": [
              "Syncing run <strong><a href='https://wandb.ai/na21b075-indian-institute-of-technology-madras/wandb/runs/zl713lep' target=\"_blank\">frosty-voice-43</a></strong> to <a href='https://wandb.ai/na21b075-indian-institute-of-technology-madras/wandb' target=\"_blank\">Weights & Biases</a> (<a href='https://wandb.me/developer-guide' target=\"_blank\">docs</a>)<br>"
            ],
            "text/plain": [
              "<IPython.core.display.HTML object>"
            ]
          },
          "metadata": {},
          "output_type": "display_data"
        },
        {
          "data": {
            "text/html": [
              " View project at <a href='https://wandb.ai/na21b075-indian-institute-of-technology-madras/wandb' target=\"_blank\">https://wandb.ai/na21b075-indian-institute-of-technology-madras/wandb</a>"
            ],
            "text/plain": [
              "<IPython.core.display.HTML object>"
            ]
          },
          "metadata": {},
          "output_type": "display_data"
        },
        {
          "data": {
            "text/html": [
              " View run at <a href='https://wandb.ai/na21b075-indian-institute-of-technology-madras/wandb/runs/zl713lep' target=\"_blank\">https://wandb.ai/na21b075-indian-institute-of-technology-madras/wandb/runs/zl713lep</a>"
            ],
            "text/plain": [
              "<IPython.core.display.HTML object>"
            ]
          },
          "metadata": {},
          "output_type": "display_data"
        },
        {
          "metadata": {
            "tags": null
          },
          "name": "stdout",
          "output_type": "stream",
          "text": [
            "Epoch: 1\n",
            "     Accuracy 9.994444444444444\n",
            "Epoch: 2\n",
            "     Accuracy 9.994444444444444\n",
            "Epoch: 3\n",
            "     Accuracy 9.994444444444444\n",
            "Epoch: 4\n",
            "     Accuracy 9.994444444444444\n",
            "Epoch: 5\n",
            "     Accuracy 9.994444444444444\n"
          ]
        },
        {
          "data": {
            "text/html": [],
            "text/plain": [
              "<IPython.core.display.HTML object>"
            ]
          },
          "metadata": {},
          "output_type": "display_data"
        },
        {
          "data": {
            "text/html": [
              "<br>    <style><br>        .wandb-row {<br>            display: flex;<br>            flex-direction: row;<br>            flex-wrap: wrap;<br>            justify-content: flex-start;<br>            width: 100%;<br>        }<br>        .wandb-col {<br>            display: flex;<br>            flex-direction: column;<br>            flex-basis: 100%;<br>            flex: 1;<br>            padding: 10px;<br>        }<br>    </style><br><div class=\"wandb-row\"><div class=\"wandb-col\"><h3>Run history:</h3><br/><table class=\"wandb\"><tr><td>accuracy</td><td>▁▁▁▁▁</td></tr><tr><td>epoch</td><td>▁▃▅▆█</td></tr></table><br/></div><div class=\"wandb-col\"><h3>Run summary:</h3><br/><table class=\"wandb\"><tr><td>accuracy</td><td>9.99444</td></tr><tr><td>epoch</td><td>4</td></tr></table><br/></div></div>"
            ],
            "text/plain": [
              "<IPython.core.display.HTML object>"
            ]
          },
          "metadata": {},
          "output_type": "display_data"
        },
        {
          "data": {
            "text/html": [
              " View run <strong style=\"color:#cdcd00\">cross_entropy_hl3_bs_64_ac_relu</strong> at: <a href='https://wandb.ai/na21b075-indian-institute-of-technology-madras/wandb/runs/zl713lep' target=\"_blank\">https://wandb.ai/na21b075-indian-institute-of-technology-madras/wandb/runs/zl713lep</a><br> View project at: <a href='https://wandb.ai/na21b075-indian-institute-of-technology-madras/wandb' target=\"_blank\">https://wandb.ai/na21b075-indian-institute-of-technology-madras/wandb</a><br>Synced 5 W&B file(s), 1 media file(s), 2 artifact file(s) and 0 other file(s)"
            ],
            "text/plain": [
              "<IPython.core.display.HTML object>"
            ]
          },
          "metadata": {},
          "output_type": "display_data"
        },
        {
          "data": {
            "text/html": [
              "Find logs at: <code>./wandb/run-20250317_130348-zl713lep/logs</code>"
            ],
            "text/plain": [
              "<IPython.core.display.HTML object>"
            ]
          },
          "metadata": {},
          "output_type": "display_data"
        },
        {
          "data": {
            "text/html": [
              "Tracking run with wandb version 0.19.8"
            ],
            "text/plain": [
              "<IPython.core.display.HTML object>"
            ]
          },
          "metadata": {},
          "output_type": "display_data"
        },
        {
          "data": {
            "text/html": [
              "Run data is saved locally in <code>/content/wandb/run-20250317_130646-gytqrtn7</code>"
            ],
            "text/plain": [
              "<IPython.core.display.HTML object>"
            ]
          },
          "metadata": {},
          "output_type": "display_data"
        },
        {
          "data": {
            "text/html": [
              "Syncing run <strong><a href='https://wandb.ai/na21b075-indian-institute-of-technology-madras/wandb/runs/gytqrtn7' target=\"_blank\">giddy-deluge-44</a></strong> to <a href='https://wandb.ai/na21b075-indian-institute-of-technology-madras/wandb' target=\"_blank\">Weights & Biases</a> (<a href='https://wandb.me/developer-guide' target=\"_blank\">docs</a>)<br>"
            ],
            "text/plain": [
              "<IPython.core.display.HTML object>"
            ]
          },
          "metadata": {},
          "output_type": "display_data"
        },
        {
          "data": {
            "text/html": [
              " View project at <a href='https://wandb.ai/na21b075-indian-institute-of-technology-madras/wandb' target=\"_blank\">https://wandb.ai/na21b075-indian-institute-of-technology-madras/wandb</a>"
            ],
            "text/plain": [
              "<IPython.core.display.HTML object>"
            ]
          },
          "metadata": {},
          "output_type": "display_data"
        },
        {
          "data": {
            "text/html": [
              " View run at <a href='https://wandb.ai/na21b075-indian-institute-of-technology-madras/wandb/runs/gytqrtn7' target=\"_blank\">https://wandb.ai/na21b075-indian-institute-of-technology-madras/wandb/runs/gytqrtn7</a>"
            ],
            "text/plain": [
              "<IPython.core.display.HTML object>"
            ]
          },
          "metadata": {},
          "output_type": "display_data"
        },
        {
          "metadata": {
            "tags": null
          },
          "name": "stdout",
          "output_type": "stream",
          "text": [
            "Epoch: 1\n",
            "     Accuracy 9.744444444444444\n",
            "Epoch: 2\n",
            "     Accuracy 9.692592592592593\n",
            "Epoch: 3\n",
            "     Accuracy 9.662962962962963\n",
            "Epoch: 4\n",
            "     Accuracy 9.661111111111111\n",
            "Epoch: 5\n",
            "     Accuracy 9.661111111111111\n"
          ]
        },
        {
          "data": {
            "text/html": [],
            "text/plain": [
              "<IPython.core.display.HTML object>"
            ]
          },
          "metadata": {},
          "output_type": "display_data"
        },
        {
          "data": {
            "text/html": [
              "<br>    <style><br>        .wandb-row {<br>            display: flex;<br>            flex-direction: row;<br>            flex-wrap: wrap;<br>            justify-content: flex-start;<br>            width: 100%;<br>        }<br>        .wandb-col {<br>            display: flex;<br>            flex-direction: column;<br>            flex-basis: 100%;<br>            flex: 1;<br>            padding: 10px;<br>        }<br>    </style><br><div class=\"wandb-row\"><div class=\"wandb-col\"><h3>Run history:</h3><br/><table class=\"wandb\"><tr><td>accuracy</td><td>█▄▁▁▁</td></tr><tr><td>epoch</td><td>▁▃▅▆█</td></tr></table><br/></div><div class=\"wandb-col\"><h3>Run summary:</h3><br/><table class=\"wandb\"><tr><td>accuracy</td><td>9.66111</td></tr><tr><td>epoch</td><td>4</td></tr></table><br/></div></div>"
            ],
            "text/plain": [
              "<IPython.core.display.HTML object>"
            ]
          },
          "metadata": {},
          "output_type": "display_data"
        },
        {
          "data": {
            "text/html": [
              " View run <strong style=\"color:#cdcd00\">cross_entropy_hl5_bs_32_ac_relu</strong> at: <a href='https://wandb.ai/na21b075-indian-institute-of-technology-madras/wandb/runs/gytqrtn7' target=\"_blank\">https://wandb.ai/na21b075-indian-institute-of-technology-madras/wandb/runs/gytqrtn7</a><br> View project at: <a href='https://wandb.ai/na21b075-indian-institute-of-technology-madras/wandb' target=\"_blank\">https://wandb.ai/na21b075-indian-institute-of-technology-madras/wandb</a><br>Synced 5 W&B file(s), 1 media file(s), 2 artifact file(s) and 0 other file(s)"
            ],
            "text/plain": [
              "<IPython.core.display.HTML object>"
            ]
          },
          "metadata": {},
          "output_type": "display_data"
        },
        {
          "data": {
            "text/html": [
              "Find logs at: <code>./wandb/run-20250317_130646-gytqrtn7/logs</code>"
            ],
            "text/plain": [
              "<IPython.core.display.HTML object>"
            ]
          },
          "metadata": {},
          "output_type": "display_data"
        },
        {
          "data": {
            "text/html": [
              "Tracking run with wandb version 0.19.8"
            ],
            "text/plain": [
              "<IPython.core.display.HTML object>"
            ]
          },
          "metadata": {},
          "output_type": "display_data"
        },
        {
          "data": {
            "text/html": [
              "Run data is saved locally in <code>/content/wandb/run-20250317_131235-9ro51kun</code>"
            ],
            "text/plain": [
              "<IPython.core.display.HTML object>"
            ]
          },
          "metadata": {},
          "output_type": "display_data"
        },
        {
          "data": {
            "text/html": [
              "Syncing run <strong><a href='https://wandb.ai/na21b075-indian-institute-of-technology-madras/wandb/runs/9ro51kun' target=\"_blank\">radiant-paper-45</a></strong> to <a href='https://wandb.ai/na21b075-indian-institute-of-technology-madras/wandb' target=\"_blank\">Weights & Biases</a> (<a href='https://wandb.me/developer-guide' target=\"_blank\">docs</a>)<br>"
            ],
            "text/plain": [
              "<IPython.core.display.HTML object>"
            ]
          },
          "metadata": {},
          "output_type": "display_data"
        },
        {
          "data": {
            "text/html": [
              " View project at <a href='https://wandb.ai/na21b075-indian-institute-of-technology-madras/wandb' target=\"_blank\">https://wandb.ai/na21b075-indian-institute-of-technology-madras/wandb</a>"
            ],
            "text/plain": [
              "<IPython.core.display.HTML object>"
            ]
          },
          "metadata": {},
          "output_type": "display_data"
        },
        {
          "data": {
            "text/html": [
              " View run at <a href='https://wandb.ai/na21b075-indian-institute-of-technology-madras/wandb/runs/9ro51kun' target=\"_blank\">https://wandb.ai/na21b075-indian-institute-of-technology-madras/wandb/runs/9ro51kun</a>"
            ],
            "text/plain": [
              "<IPython.core.display.HTML object>"
            ]
          },
          "metadata": {},
          "output_type": "display_data"
        },
        {
          "metadata": {
            "tags": null
          },
          "name": "stdout",
          "output_type": "stream",
          "text": [
            "Epoch: 1\n",
            "     Accuracy 11.872222222222222\n",
            "Epoch: 2\n",
            "     Accuracy 11.872222222222222\n",
            "Epoch: 3\n",
            "     Accuracy 11.872222222222222\n",
            "Epoch: 4\n",
            "     Accuracy 11.872222222222222\n",
            "Epoch: 5\n",
            "     Accuracy 11.872222222222222\n",
            "Epoch: 6\n",
            "     Accuracy 11.872222222222222\n",
            "Epoch: 7\n",
            "     Accuracy 11.872222222222222\n",
            "Epoch: 8\n",
            "     Accuracy 11.872222222222222\n",
            "Epoch: 9\n",
            "     Accuracy 11.872222222222222\n",
            "Epoch: 10\n",
            "     Accuracy 11.872222222222222\n"
          ]
        },
        {
          "data": {
            "text/html": [],
            "text/plain": [
              "<IPython.core.display.HTML object>"
            ]
          },
          "metadata": {},
          "output_type": "display_data"
        },
        {
          "data": {
            "text/html": [
              "<br>    <style><br>        .wandb-row {<br>            display: flex;<br>            flex-direction: row;<br>            flex-wrap: wrap;<br>            justify-content: flex-start;<br>            width: 100%;<br>        }<br>        .wandb-col {<br>            display: flex;<br>            flex-direction: column;<br>            flex-basis: 100%;<br>            flex: 1;<br>            padding: 10px;<br>        }<br>    </style><br><div class=\"wandb-row\"><div class=\"wandb-col\"><h3>Run history:</h3><br/><table class=\"wandb\"><tr><td>accuracy</td><td>▁▁▁▁▁▁▁▁▁▁</td></tr><tr><td>epoch</td><td>▁▂▃▃▄▅▆▆▇█</td></tr></table><br/></div><div class=\"wandb-col\"><h3>Run summary:</h3><br/><table class=\"wandb\"><tr><td>accuracy</td><td>11.87222</td></tr><tr><td>epoch</td><td>9</td></tr></table><br/></div></div>"
            ],
            "text/plain": [
              "<IPython.core.display.HTML object>"
            ]
          },
          "metadata": {},
          "output_type": "display_data"
        },
        {
          "data": {
            "text/html": [
              " View run <strong style=\"color:#cdcd00\">mse_hl4_bs_32_ac_tanh</strong> at: <a href='https://wandb.ai/na21b075-indian-institute-of-technology-madras/wandb/runs/9ro51kun' target=\"_blank\">https://wandb.ai/na21b075-indian-institute-of-technology-madras/wandb/runs/9ro51kun</a><br> View project at: <a href='https://wandb.ai/na21b075-indian-institute-of-technology-madras/wandb' target=\"_blank\">https://wandb.ai/na21b075-indian-institute-of-technology-madras/wandb</a><br>Synced 5 W&B file(s), 1 media file(s), 2 artifact file(s) and 0 other file(s)"
            ],
            "text/plain": [
              "<IPython.core.display.HTML object>"
            ]
          },
          "metadata": {},
          "output_type": "display_data"
        },
        {
          "data": {
            "text/html": [
              "Find logs at: <code>./wandb/run-20250317_131235-9ro51kun/logs</code>"
            ],
            "text/plain": [
              "<IPython.core.display.HTML object>"
            ]
          },
          "metadata": {},
          "output_type": "display_data"
        },
        {
          "data": {
            "text/html": [
              "Tracking run with wandb version 0.19.8"
            ],
            "text/plain": [
              "<IPython.core.display.HTML object>"
            ]
          },
          "metadata": {},
          "output_type": "display_data"
        },
        {
          "data": {
            "text/html": [
              "Run data is saved locally in <code>/content/wandb/run-20250317_131856-dho3p7ku</code>"
            ],
            "text/plain": [
              "<IPython.core.display.HTML object>"
            ]
          },
          "metadata": {},
          "output_type": "display_data"
        },
        {
          "data": {
            "text/html": [
              "Syncing run <strong><a href='https://wandb.ai/na21b075-indian-institute-of-technology-madras/wandb/runs/dho3p7ku' target=\"_blank\">floral-voice-46</a></strong> to <a href='https://wandb.ai/na21b075-indian-institute-of-technology-madras/wandb' target=\"_blank\">Weights & Biases</a> (<a href='https://wandb.me/developer-guide' target=\"_blank\">docs</a>)<br>"
            ],
            "text/plain": [
              "<IPython.core.display.HTML object>"
            ]
          },
          "metadata": {},
          "output_type": "display_data"
        },
        {
          "data": {
            "text/html": [
              " View project at <a href='https://wandb.ai/na21b075-indian-institute-of-technology-madras/wandb' target=\"_blank\">https://wandb.ai/na21b075-indian-institute-of-technology-madras/wandb</a>"
            ],
            "text/plain": [
              "<IPython.core.display.HTML object>"
            ]
          },
          "metadata": {},
          "output_type": "display_data"
        },
        {
          "data": {
            "text/html": [
              " View run at <a href='https://wandb.ai/na21b075-indian-institute-of-technology-madras/wandb/runs/dho3p7ku' target=\"_blank\">https://wandb.ai/na21b075-indian-institute-of-technology-madras/wandb/runs/dho3p7ku</a>"
            ],
            "text/plain": [
              "<IPython.core.display.HTML object>"
            ]
          },
          "metadata": {},
          "output_type": "display_data"
        },
        {
          "metadata": {
            "tags": null
          },
          "name": "stdout",
          "output_type": "stream",
          "text": [
            "Epoch: 1\n",
            "     Accuracy 73.14444444444445\n",
            "Epoch: 2\n",
            "     Accuracy 85.33333333333333\n",
            "Epoch: 3\n",
            "     Accuracy 86.71851851851852\n",
            "Epoch: 4\n",
            "     Accuracy 87.55185185185185\n",
            "Epoch: 5\n",
            "     Accuracy 88.1\n"
          ]
        },
        {
          "data": {
            "text/html": [],
            "text/plain": [
              "<IPython.core.display.HTML object>"
            ]
          },
          "metadata": {},
          "output_type": "display_data"
        },
        {
          "data": {
            "text/html": [
              "<br>    <style><br>        .wandb-row {<br>            display: flex;<br>            flex-direction: row;<br>            flex-wrap: wrap;<br>            justify-content: flex-start;<br>            width: 100%;<br>        }<br>        .wandb-col {<br>            display: flex;<br>            flex-direction: column;<br>            flex-basis: 100%;<br>            flex: 1;<br>            padding: 10px;<br>        }<br>    </style><br><div class=\"wandb-row\"><div class=\"wandb-col\"><h3>Run history:</h3><br/><table class=\"wandb\"><tr><td>accuracy</td><td>▁▇▇██</td></tr><tr><td>epoch</td><td>▁▃▅▆█</td></tr></table><br/></div><div class=\"wandb-col\"><h3>Run summary:</h3><br/><table class=\"wandb\"><tr><td>accuracy</td><td>88.1</td></tr><tr><td>epoch</td><td>4</td></tr></table><br/></div></div>"
            ],
            "text/plain": [
              "<IPython.core.display.HTML object>"
            ]
          },
          "metadata": {},
          "output_type": "display_data"
        },
        {
          "data": {
            "text/html": [
              " View run <strong style=\"color:#cdcd00\">mse_hl4_bs_64_ac_relu</strong> at: <a href='https://wandb.ai/na21b075-indian-institute-of-technology-madras/wandb/runs/dho3p7ku' target=\"_blank\">https://wandb.ai/na21b075-indian-institute-of-technology-madras/wandb/runs/dho3p7ku</a><br> View project at: <a href='https://wandb.ai/na21b075-indian-institute-of-technology-madras/wandb' target=\"_blank\">https://wandb.ai/na21b075-indian-institute-of-technology-madras/wandb</a><br>Synced 5 W&B file(s), 1 media file(s), 2 artifact file(s) and 0 other file(s)"
            ],
            "text/plain": [
              "<IPython.core.display.HTML object>"
            ]
          },
          "metadata": {},
          "output_type": "display_data"
        },
        {
          "data": {
            "text/html": [
              "Find logs at: <code>./wandb/run-20250317_131856-dho3p7ku/logs</code>"
            ],
            "text/plain": [
              "<IPython.core.display.HTML object>"
            ]
          },
          "metadata": {},
          "output_type": "display_data"
        },
        {
          "data": {
            "text/html": [
              "Tracking run with wandb version 0.19.8"
            ],
            "text/plain": [
              "<IPython.core.display.HTML object>"
            ]
          },
          "metadata": {},
          "output_type": "display_data"
        },
        {
          "data": {
            "text/html": [
              "Run data is saved locally in <code>/content/wandb/run-20250317_132924-aer1sfb5</code>"
            ],
            "text/plain": [
              "<IPython.core.display.HTML object>"
            ]
          },
          "metadata": {},
          "output_type": "display_data"
        },
        {
          "data": {
            "text/html": [
              "Syncing run <strong><a href='https://wandb.ai/na21b075-indian-institute-of-technology-madras/wandb/runs/aer1sfb5' target=\"_blank\">breezy-deluge-47</a></strong> to <a href='https://wandb.ai/na21b075-indian-institute-of-technology-madras/wandb' target=\"_blank\">Weights & Biases</a> (<a href='https://wandb.me/developer-guide' target=\"_blank\">docs</a>)<br>"
            ],
            "text/plain": [
              "<IPython.core.display.HTML object>"
            ]
          },
          "metadata": {},
          "output_type": "display_data"
        },
        {
          "data": {
            "text/html": [
              " View project at <a href='https://wandb.ai/na21b075-indian-institute-of-technology-madras/wandb' target=\"_blank\">https://wandb.ai/na21b075-indian-institute-of-technology-madras/wandb</a>"
            ],
            "text/plain": [
              "<IPython.core.display.HTML object>"
            ]
          },
          "metadata": {},
          "output_type": "display_data"
        },
        {
          "data": {
            "text/html": [
              " View run at <a href='https://wandb.ai/na21b075-indian-institute-of-technology-madras/wandb/runs/aer1sfb5' target=\"_blank\">https://wandb.ai/na21b075-indian-institute-of-technology-madras/wandb/runs/aer1sfb5</a>"
            ],
            "text/plain": [
              "<IPython.core.display.HTML object>"
            ]
          },
          "metadata": {},
          "output_type": "display_data"
        },
        {
          "metadata": {
            "tags": null
          },
          "name": "stdout",
          "output_type": "stream",
          "text": [
            "Epoch: 1\n",
            "     Accuracy 82.41111111111111\n",
            "Epoch: 2\n",
            "     Accuracy 86.57777777777778\n",
            "Epoch: 3\n",
            "     Accuracy 87.49259259259259\n",
            "Epoch: 4\n",
            "     Accuracy 88.06296296296296\n",
            "Epoch: 5\n",
            "     Accuracy 88.62407407407407\n"
          ]
        },
        {
          "data": {
            "text/html": [],
            "text/plain": [
              "<IPython.core.display.HTML object>"
            ]
          },
          "metadata": {},
          "output_type": "display_data"
        },
        {
          "data": {
            "text/html": [
              "<br>    <style><br>        .wandb-row {<br>            display: flex;<br>            flex-direction: row;<br>            flex-wrap: wrap;<br>            justify-content: flex-start;<br>            width: 100%;<br>        }<br>        .wandb-col {<br>            display: flex;<br>            flex-direction: column;<br>            flex-basis: 100%;<br>            flex: 1;<br>            padding: 10px;<br>        }<br>    </style><br><div class=\"wandb-row\"><div class=\"wandb-col\"><h3>Run history:</h3><br/><table class=\"wandb\"><tr><td>accuracy</td><td>▁▆▇▇█</td></tr><tr><td>epoch</td><td>▁▃▅▆█</td></tr></table><br/></div><div class=\"wandb-col\"><h3>Run summary:</h3><br/><table class=\"wandb\"><tr><td>accuracy</td><td>88.62407</td></tr><tr><td>epoch</td><td>4</td></tr></table><br/></div></div>"
            ],
            "text/plain": [
              "<IPython.core.display.HTML object>"
            ]
          },
          "metadata": {},
          "output_type": "display_data"
        },
        {
          "data": {
            "text/html": [
              " View run <strong style=\"color:#cdcd00\">mse_hl5_bs_32_ac_tanh</strong> at: <a href='https://wandb.ai/na21b075-indian-institute-of-technology-madras/wandb/runs/aer1sfb5' target=\"_blank\">https://wandb.ai/na21b075-indian-institute-of-technology-madras/wandb/runs/aer1sfb5</a><br> View project at: <a href='https://wandb.ai/na21b075-indian-institute-of-technology-madras/wandb' target=\"_blank\">https://wandb.ai/na21b075-indian-institute-of-technology-madras/wandb</a><br>Synced 5 W&B file(s), 1 media file(s), 2 artifact file(s) and 0 other file(s)"
            ],
            "text/plain": [
              "<IPython.core.display.HTML object>"
            ]
          },
          "metadata": {},
          "output_type": "display_data"
        },
        {
          "data": {
            "text/html": [
              "Find logs at: <code>./wandb/run-20250317_132924-aer1sfb5/logs</code>"
            ],
            "text/plain": [
              "<IPython.core.display.HTML object>"
            ]
          },
          "metadata": {},
          "output_type": "display_data"
        },
        {
          "data": {
            "text/html": [
              "Tracking run with wandb version 0.19.8"
            ],
            "text/plain": [
              "<IPython.core.display.HTML object>"
            ]
          },
          "metadata": {},
          "output_type": "display_data"
        },
        {
          "data": {
            "text/html": [
              "Run data is saved locally in <code>/content/wandb/run-20250317_133508-9abdrcyl</code>"
            ],
            "text/plain": [
              "<IPython.core.display.HTML object>"
            ]
          },
          "metadata": {},
          "output_type": "display_data"
        },
        {
          "data": {
            "text/html": [
              "Syncing run <strong><a href='https://wandb.ai/na21b075-indian-institute-of-technology-madras/wandb/runs/9abdrcyl' target=\"_blank\">clean-silence-48</a></strong> to <a href='https://wandb.ai/na21b075-indian-institute-of-technology-madras/wandb' target=\"_blank\">Weights & Biases</a> (<a href='https://wandb.me/developer-guide' target=\"_blank\">docs</a>)<br>"
            ],
            "text/plain": [
              "<IPython.core.display.HTML object>"
            ]
          },
          "metadata": {},
          "output_type": "display_data"
        },
        {
          "data": {
            "text/html": [
              " View project at <a href='https://wandb.ai/na21b075-indian-institute-of-technology-madras/wandb' target=\"_blank\">https://wandb.ai/na21b075-indian-institute-of-technology-madras/wandb</a>"
            ],
            "text/plain": [
              "<IPython.core.display.HTML object>"
            ]
          },
          "metadata": {},
          "output_type": "display_data"
        },
        {
          "data": {
            "text/html": [
              " View run at <a href='https://wandb.ai/na21b075-indian-institute-of-technology-madras/wandb/runs/9abdrcyl' target=\"_blank\">https://wandb.ai/na21b075-indian-institute-of-technology-madras/wandb/runs/9abdrcyl</a>"
            ],
            "text/plain": [
              "<IPython.core.display.HTML object>"
            ]
          },
          "metadata": {},
          "output_type": "display_data"
        },
        {
          "metadata": {
            "tags": null
          },
          "name": "stdout",
          "output_type": "stream",
          "text": [
            "Epoch: 1\n",
            "     Accuracy 10.018518518518519\n",
            "Epoch: 2\n",
            "     Accuracy 10.018518518518519\n",
            "Epoch: 3\n",
            "     Accuracy 10.018518518518519\n",
            "Epoch: 4\n",
            "     Accuracy 10.018518518518519\n",
            "Epoch: 5\n",
            "     Accuracy 10.018518518518519\n"
          ]
        },
        {
          "data": {
            "text/html": [],
            "text/plain": [
              "<IPython.core.display.HTML object>"
            ]
          },
          "metadata": {},
          "output_type": "display_data"
        },
        {
          "data": {
            "text/html": [
              "<br>    <style><br>        .wandb-row {<br>            display: flex;<br>            flex-direction: row;<br>            flex-wrap: wrap;<br>            justify-content: flex-start;<br>            width: 100%;<br>        }<br>        .wandb-col {<br>            display: flex;<br>            flex-direction: column;<br>            flex-basis: 100%;<br>            flex: 1;<br>            padding: 10px;<br>        }<br>    </style><br><div class=\"wandb-row\"><div class=\"wandb-col\"><h3>Run history:</h3><br/><table class=\"wandb\"><tr><td>accuracy</td><td>▁▁▁▁▁</td></tr><tr><td>epoch</td><td>▁▃▅▆█</td></tr></table><br/></div><div class=\"wandb-col\"><h3>Run summary:</h3><br/><table class=\"wandb\"><tr><td>accuracy</td><td>10.01852</td></tr><tr><td>epoch</td><td>4</td></tr></table><br/></div></div>"
            ],
            "text/plain": [
              "<IPython.core.display.HTML object>"
            ]
          },
          "metadata": {},
          "output_type": "display_data"
        },
        {
          "data": {
            "text/html": [
              " View run <strong style=\"color:#cdcd00\">cross_entropy_hl4_bs_64_ac_sigmoid</strong> at: <a href='https://wandb.ai/na21b075-indian-institute-of-technology-madras/wandb/runs/9abdrcyl' target=\"_blank\">https://wandb.ai/na21b075-indian-institute-of-technology-madras/wandb/runs/9abdrcyl</a><br> View project at: <a href='https://wandb.ai/na21b075-indian-institute-of-technology-madras/wandb' target=\"_blank\">https://wandb.ai/na21b075-indian-institute-of-technology-madras/wandb</a><br>Synced 5 W&B file(s), 1 media file(s), 2 artifact file(s) and 0 other file(s)"
            ],
            "text/plain": [
              "<IPython.core.display.HTML object>"
            ]
          },
          "metadata": {},
          "output_type": "display_data"
        },
        {
          "data": {
            "text/html": [
              "Find logs at: <code>./wandb/run-20250317_133508-9abdrcyl/logs</code>"
            ],
            "text/plain": [
              "<IPython.core.display.HTML object>"
            ]
          },
          "metadata": {},
          "output_type": "display_data"
        },
        {
          "data": {
            "text/html": [
              "Tracking run with wandb version 0.19.8"
            ],
            "text/plain": [
              "<IPython.core.display.HTML object>"
            ]
          },
          "metadata": {},
          "output_type": "display_data"
        },
        {
          "data": {
            "text/html": [
              "Run data is saved locally in <code>/content/wandb/run-20250317_133849-xz0y5hk6</code>"
            ],
            "text/plain": [
              "<IPython.core.display.HTML object>"
            ]
          },
          "metadata": {},
          "output_type": "display_data"
        },
        {
          "data": {
            "text/html": [
              "Syncing run <strong><a href='https://wandb.ai/na21b075-indian-institute-of-technology-madras/wandb/runs/xz0y5hk6' target=\"_blank\">vibrant-voice-49</a></strong> to <a href='https://wandb.ai/na21b075-indian-institute-of-technology-madras/wandb' target=\"_blank\">Weights & Biases</a> (<a href='https://wandb.me/developer-guide' target=\"_blank\">docs</a>)<br>"
            ],
            "text/plain": [
              "<IPython.core.display.HTML object>"
            ]
          },
          "metadata": {},
          "output_type": "display_data"
        },
        {
          "data": {
            "text/html": [
              " View project at <a href='https://wandb.ai/na21b075-indian-institute-of-technology-madras/wandb' target=\"_blank\">https://wandb.ai/na21b075-indian-institute-of-technology-madras/wandb</a>"
            ],
            "text/plain": [
              "<IPython.core.display.HTML object>"
            ]
          },
          "metadata": {},
          "output_type": "display_data"
        },
        {
          "data": {
            "text/html": [
              " View run at <a href='https://wandb.ai/na21b075-indian-institute-of-technology-madras/wandb/runs/xz0y5hk6' target=\"_blank\">https://wandb.ai/na21b075-indian-institute-of-technology-madras/wandb/runs/xz0y5hk6</a>"
            ],
            "text/plain": [
              "<IPython.core.display.HTML object>"
            ]
          },
          "metadata": {},
          "output_type": "display_data"
        },
        {
          "metadata": {
            "tags": null
          },
          "name": "stdout",
          "output_type": "stream",
          "text": [
            "Epoch: 1\n",
            "     Accuracy 9.892592592592592\n",
            "Epoch: 2\n",
            "     Accuracy 9.91851851851852\n",
            "Epoch: 3\n",
            "     Accuracy 9.940740740740742\n",
            "Epoch: 4\n",
            "     Accuracy 10.098148148148148\n",
            "Epoch: 5\n",
            "     Accuracy 21.82777777777778\n"
          ]
        },
        {
          "data": {
            "text/html": [],
            "text/plain": [
              "<IPython.core.display.HTML object>"
            ]
          },
          "metadata": {},
          "output_type": "display_data"
        },
        {
          "data": {
            "text/html": [
              "<br>    <style><br>        .wandb-row {<br>            display: flex;<br>            flex-direction: row;<br>            flex-wrap: wrap;<br>            justify-content: flex-start;<br>            width: 100%;<br>        }<br>        .wandb-col {<br>            display: flex;<br>            flex-direction: column;<br>            flex-basis: 100%;<br>            flex: 1;<br>            padding: 10px;<br>        }<br>    </style><br><div class=\"wandb-row\"><div class=\"wandb-col\"><h3>Run history:</h3><br/><table class=\"wandb\"><tr><td>accuracy</td><td>▁▁▁▁█</td></tr><tr><td>epoch</td><td>▁▃▅▆█</td></tr></table><br/></div><div class=\"wandb-col\"><h3>Run summary:</h3><br/><table class=\"wandb\"><tr><td>accuracy</td><td>21.82778</td></tr><tr><td>epoch</td><td>4</td></tr></table><br/></div></div>"
            ],
            "text/plain": [
              "<IPython.core.display.HTML object>"
            ]
          },
          "metadata": {},
          "output_type": "display_data"
        },
        {
          "data": {
            "text/html": [
              " View run <strong style=\"color:#cdcd00\">cross_entropy_hl4_bs_64_ac_tanh</strong> at: <a href='https://wandb.ai/na21b075-indian-institute-of-technology-madras/wandb/runs/xz0y5hk6' target=\"_blank\">https://wandb.ai/na21b075-indian-institute-of-technology-madras/wandb/runs/xz0y5hk6</a><br> View project at: <a href='https://wandb.ai/na21b075-indian-institute-of-technology-madras/wandb' target=\"_blank\">https://wandb.ai/na21b075-indian-institute-of-technology-madras/wandb</a><br>Synced 5 W&B file(s), 1 media file(s), 2 artifact file(s) and 0 other file(s)"
            ],
            "text/plain": [
              "<IPython.core.display.HTML object>"
            ]
          },
          "metadata": {},
          "output_type": "display_data"
        },
        {
          "data": {
            "text/html": [
              "Find logs at: <code>./wandb/run-20250317_133849-xz0y5hk6/logs</code>"
            ],
            "text/plain": [
              "<IPython.core.display.HTML object>"
            ]
          },
          "metadata": {},
          "output_type": "display_data"
        },
        {
          "data": {
            "text/html": [
              "Tracking run with wandb version 0.19.8"
            ],
            "text/plain": [
              "<IPython.core.display.HTML object>"
            ]
          },
          "metadata": {},
          "output_type": "display_data"
        },
        {
          "data": {
            "text/html": [
              "Run data is saved locally in <code>/content/wandb/run-20250317_134848-8hl275g5</code>"
            ],
            "text/plain": [
              "<IPython.core.display.HTML object>"
            ]
          },
          "metadata": {},
          "output_type": "display_data"
        },
        {
          "data": {
            "text/html": [
              "Syncing run <strong><a href='https://wandb.ai/na21b075-indian-institute-of-technology-madras/wandb/runs/8hl275g5' target=\"_blank\">winter-galaxy-50</a></strong> to <a href='https://wandb.ai/na21b075-indian-institute-of-technology-madras/wandb' target=\"_blank\">Weights & Biases</a> (<a href='https://wandb.me/developer-guide' target=\"_blank\">docs</a>)<br>"
            ],
            "text/plain": [
              "<IPython.core.display.HTML object>"
            ]
          },
          "metadata": {},
          "output_type": "display_data"
        },
        {
          "data": {
            "text/html": [
              " View project at <a href='https://wandb.ai/na21b075-indian-institute-of-technology-madras/wandb' target=\"_blank\">https://wandb.ai/na21b075-indian-institute-of-technology-madras/wandb</a>"
            ],
            "text/plain": [
              "<IPython.core.display.HTML object>"
            ]
          },
          "metadata": {},
          "output_type": "display_data"
        },
        {
          "data": {
            "text/html": [
              " View run at <a href='https://wandb.ai/na21b075-indian-institute-of-technology-madras/wandb/runs/8hl275g5' target=\"_blank\">https://wandb.ai/na21b075-indian-institute-of-technology-madras/wandb/runs/8hl275g5</a>"
            ],
            "text/plain": [
              "<IPython.core.display.HTML object>"
            ]
          },
          "metadata": {},
          "output_type": "display_data"
        },
        {
          "output_type": "stream",
          "name": "stdout",
          "text": [
            "Epoch: 1\n",
            "     Accuracy 9.988888888888889\n",
            "Epoch: 2\n",
            "     Accuracy 9.91851851851852\n",
            "Epoch: 3\n",
            "     Accuracy 9.912962962962963\n",
            "Epoch: 4\n",
            "     Accuracy 9.9\n",
            "Epoch: 5\n",
            "     Accuracy 10.031481481481482\n"
          ]
        },
        {
          "output_type": "display_data",
          "data": {
            "text/plain": [
              "<IPython.core.display.HTML object>"
            ],
            "text/html": []
          },
          "metadata": {}
        },
        {
          "output_type": "display_data",
          "data": {
            "text/plain": [
              "<IPython.core.display.HTML object>"
            ],
            "text/html": [
              "<br>    <style><br>        .wandb-row {<br>            display: flex;<br>            flex-direction: row;<br>            flex-wrap: wrap;<br>            justify-content: flex-start;<br>            width: 100%;<br>        }<br>        .wandb-col {<br>            display: flex;<br>            flex-direction: column;<br>            flex-basis: 100%;<br>            flex: 1;<br>            padding: 10px;<br>        }<br>    </style><br><div class=\"wandb-row\"><div class=\"wandb-col\"><h3>Run history:</h3><br/><table class=\"wandb\"><tr><td>accuracy</td><td>▆▂▂▁█</td></tr><tr><td>epoch</td><td>▁▃▅▆█</td></tr></table><br/></div><div class=\"wandb-col\"><h3>Run summary:</h3><br/><table class=\"wandb\"><tr><td>accuracy</td><td>10.03148</td></tr><tr><td>epoch</td><td>4</td></tr></table><br/></div></div>"
            ]
          },
          "metadata": {}
        },
        {
          "output_type": "display_data",
          "data": {
            "text/plain": [
              "<IPython.core.display.HTML object>"
            ],
            "text/html": [
              " View run <strong style=\"color:#cdcd00\">mse_hl3_bs_32_ac_tanh</strong> at: <a href='https://wandb.ai/na21b075-indian-institute-of-technology-madras/wandb/runs/8hl275g5' target=\"_blank\">https://wandb.ai/na21b075-indian-institute-of-technology-madras/wandb/runs/8hl275g5</a><br> View project at: <a href='https://wandb.ai/na21b075-indian-institute-of-technology-madras/wandb' target=\"_blank\">https://wandb.ai/na21b075-indian-institute-of-technology-madras/wandb</a><br>Synced 5 W&B file(s), 1 media file(s), 2 artifact file(s) and 0 other file(s)"
            ]
          },
          "metadata": {}
        },
        {
          "output_type": "display_data",
          "data": {
            "text/plain": [
              "<IPython.core.display.HTML object>"
            ],
            "text/html": [
              "Find logs at: <code>./wandb/run-20250317_134848-8hl275g5/logs</code>"
            ]
          },
          "metadata": {}
        },
        {
          "output_type": "display_data",
          "data": {
            "text/plain": [
              "<IPython.core.display.HTML object>"
            ],
            "text/html": [
              "Tracking run with wandb version 0.19.8"
            ]
          },
          "metadata": {}
        },
        {
          "output_type": "display_data",
          "data": {
            "text/plain": [
              "<IPython.core.display.HTML object>"
            ],
            "text/html": [
              "Run data is saved locally in <code>/content/wandb/run-20250317_135337-3or44ar6</code>"
            ]
          },
          "metadata": {}
        },
        {
          "output_type": "display_data",
          "data": {
            "text/plain": [
              "<IPython.core.display.HTML object>"
            ],
            "text/html": [
              "Syncing run <strong><a href='https://wandb.ai/na21b075-indian-institute-of-technology-madras/wandb/runs/3or44ar6' target=\"_blank\">dandy-darkness-51</a></strong> to <a href='https://wandb.ai/na21b075-indian-institute-of-technology-madras/wandb' target=\"_blank\">Weights & Biases</a> (<a href='https://wandb.me/developer-guide' target=\"_blank\">docs</a>)<br>"
            ]
          },
          "metadata": {}
        },
        {
          "output_type": "display_data",
          "data": {
            "text/plain": [
              "<IPython.core.display.HTML object>"
            ],
            "text/html": [
              " View project at <a href='https://wandb.ai/na21b075-indian-institute-of-technology-madras/wandb' target=\"_blank\">https://wandb.ai/na21b075-indian-institute-of-technology-madras/wandb</a>"
            ]
          },
          "metadata": {}
        },
        {
          "output_type": "display_data",
          "data": {
            "text/plain": [
              "<IPython.core.display.HTML object>"
            ],
            "text/html": [
              " View run at <a href='https://wandb.ai/na21b075-indian-institute-of-technology-madras/wandb/runs/3or44ar6' target=\"_blank\">https://wandb.ai/na21b075-indian-institute-of-technology-madras/wandb/runs/3or44ar6</a>"
            ]
          },
          "metadata": {}
        },
        {
          "output_type": "stream",
          "name": "stdout",
          "text": [
            "Epoch: 1\n",
            "     Accuracy 10.012962962962963\n",
            "Epoch: 2\n",
            "     Accuracy 9.91851851851852\n",
            "Epoch: 3\n",
            "     Accuracy 9.894444444444444\n",
            "Epoch: 4\n",
            "     Accuracy 9.937037037037037\n",
            "Epoch: 5\n",
            "     Accuracy 9.95\n",
            "Epoch: 6\n",
            "     Accuracy 9.942592592592593\n",
            "Epoch: 7\n",
            "     Accuracy 9.896296296296295\n",
            "Epoch: 8\n",
            "     Accuracy 9.892592592592592\n",
            "Epoch: 9\n",
            "     Accuracy 9.907407407407407\n",
            "Epoch: 10\n",
            "     Accuracy 9.905555555555555\n"
          ]
        },
        {
          "output_type": "display_data",
          "data": {
            "text/plain": [
              "<IPython.core.display.HTML object>"
            ],
            "text/html": []
          },
          "metadata": {}
        },
        {
          "output_type": "display_data",
          "data": {
            "text/plain": [
              "<IPython.core.display.HTML object>"
            ],
            "text/html": [
              "<br>    <style><br>        .wandb-row {<br>            display: flex;<br>            flex-direction: row;<br>            flex-wrap: wrap;<br>            justify-content: flex-start;<br>            width: 100%;<br>        }<br>        .wandb-col {<br>            display: flex;<br>            flex-direction: column;<br>            flex-basis: 100%;<br>            flex: 1;<br>            padding: 10px;<br>        }<br>    </style><br><div class=\"wandb-row\"><div class=\"wandb-col\"><h3>Run history:</h3><br/><table class=\"wandb\"><tr><td>accuracy</td><td>█▃▁▄▄▄▁▁▂▂</td></tr><tr><td>epoch</td><td>▁▂▃▃▄▅▆▆▇█</td></tr></table><br/></div><div class=\"wandb-col\"><h3>Run summary:</h3><br/><table class=\"wandb\"><tr><td>accuracy</td><td>9.90556</td></tr><tr><td>epoch</td><td>9</td></tr></table><br/></div></div>"
            ]
          },
          "metadata": {}
        },
        {
          "output_type": "display_data",
          "data": {
            "text/plain": [
              "<IPython.core.display.HTML object>"
            ],
            "text/html": [
              " View run <strong style=\"color:#cdcd00\">mse_hl4_bs_64_ac_sigmoid</strong> at: <a href='https://wandb.ai/na21b075-indian-institute-of-technology-madras/wandb/runs/3or44ar6' target=\"_blank\">https://wandb.ai/na21b075-indian-institute-of-technology-madras/wandb/runs/3or44ar6</a><br> View project at: <a href='https://wandb.ai/na21b075-indian-institute-of-technology-madras/wandb' target=\"_blank\">https://wandb.ai/na21b075-indian-institute-of-technology-madras/wandb</a><br>Synced 5 W&B file(s), 1 media file(s), 2 artifact file(s) and 0 other file(s)"
            ]
          },
          "metadata": {}
        },
        {
          "output_type": "display_data",
          "data": {
            "text/plain": [
              "<IPython.core.display.HTML object>"
            ],
            "text/html": [
              "Find logs at: <code>./wandb/run-20250317_135337-3or44ar6/logs</code>"
            ]
          },
          "metadata": {}
        },
        {
          "output_type": "display_data",
          "data": {
            "text/plain": [
              "<IPython.core.display.HTML object>"
            ],
            "text/html": [
              "Tracking run with wandb version 0.19.8"
            ]
          },
          "metadata": {}
        },
        {
          "output_type": "display_data",
          "data": {
            "text/plain": [
              "<IPython.core.display.HTML object>"
            ],
            "text/html": [
              "Run data is saved locally in <code>/content/wandb/run-20250317_140104-s3du9cx3</code>"
            ]
          },
          "metadata": {}
        },
        {
          "output_type": "display_data",
          "data": {
            "text/plain": [
              "<IPython.core.display.HTML object>"
            ],
            "text/html": [
              "Syncing run <strong><a href='https://wandb.ai/na21b075-indian-institute-of-technology-madras/wandb/runs/s3du9cx3' target=\"_blank\">sage-eon-53</a></strong> to <a href='https://wandb.ai/na21b075-indian-institute-of-technology-madras/wandb' target=\"_blank\">Weights & Biases</a> (<a href='https://wandb.me/developer-guide' target=\"_blank\">docs</a>)<br>"
            ]
          },
          "metadata": {}
        },
        {
          "output_type": "display_data",
          "data": {
            "text/plain": [
              "<IPython.core.display.HTML object>"
            ],
            "text/html": [
              " View project at <a href='https://wandb.ai/na21b075-indian-institute-of-technology-madras/wandb' target=\"_blank\">https://wandb.ai/na21b075-indian-institute-of-technology-madras/wandb</a>"
            ]
          },
          "metadata": {}
        },
        {
          "output_type": "display_data",
          "data": {
            "text/plain": [
              "<IPython.core.display.HTML object>"
            ],
            "text/html": [
              " View run at <a href='https://wandb.ai/na21b075-indian-institute-of-technology-madras/wandb/runs/s3du9cx3' target=\"_blank\">https://wandb.ai/na21b075-indian-institute-of-technology-madras/wandb/runs/s3du9cx3</a>"
            ]
          },
          "metadata": {}
        },
        {
          "output_type": "stream",
          "name": "stdout",
          "text": [
            "Epoch: 1\n",
            "     Accuracy 5.627777777777778\n",
            "Epoch: 2\n",
            "     Accuracy 5.627777777777778\n",
            "Epoch: 3\n",
            "     Accuracy 5.627777777777778\n",
            "Epoch: 4\n",
            "     Accuracy 5.627777777777778\n",
            "Epoch: 5\n",
            "     Accuracy 5.627777777777778\n",
            "Epoch: 6\n",
            "     Accuracy 5.627777777777778\n",
            "Epoch: 7\n",
            "     Accuracy 5.627777777777778\n",
            "Epoch: 8\n",
            "     Accuracy 5.627777777777778\n",
            "Epoch: 9\n",
            "     Accuracy 5.627777777777778\n",
            "Epoch: 10\n",
            "     Accuracy 5.627777777777778\n"
          ]
        },
        {
          "output_type": "display_data",
          "data": {
            "text/plain": [
              "<IPython.core.display.HTML object>"
            ],
            "text/html": []
          },
          "metadata": {}
        },
        {
          "output_type": "display_data",
          "data": {
            "text/plain": [
              "<IPython.core.display.HTML object>"
            ],
            "text/html": [
              "<br>    <style><br>        .wandb-row {<br>            display: flex;<br>            flex-direction: row;<br>            flex-wrap: wrap;<br>            justify-content: flex-start;<br>            width: 100%;<br>        }<br>        .wandb-col {<br>            display: flex;<br>            flex-direction: column;<br>            flex-basis: 100%;<br>            flex: 1;<br>            padding: 10px;<br>        }<br>    </style><br><div class=\"wandb-row\"><div class=\"wandb-col\"><h3>Run history:</h3><br/><table class=\"wandb\"><tr><td>accuracy</td><td>▁▁▁▁▁▁▁▁▁▁</td></tr><tr><td>epoch</td><td>▁▂▃▃▄▅▆▆▇█</td></tr></table><br/></div><div class=\"wandb-col\"><h3>Run summary:</h3><br/><table class=\"wandb\"><tr><td>accuracy</td><td>5.62778</td></tr><tr><td>epoch</td><td>9</td></tr></table><br/></div></div>"
            ]
          },
          "metadata": {}
        },
        {
          "output_type": "display_data",
          "data": {
            "text/plain": [
              "<IPython.core.display.HTML object>"
            ],
            "text/html": [
              " View run <strong style=\"color:#cdcd00\">cross_entropy_hl5_bs_64_ac_tanh</strong> at: <a href='https://wandb.ai/na21b075-indian-institute-of-technology-madras/wandb/runs/s3du9cx3' target=\"_blank\">https://wandb.ai/na21b075-indian-institute-of-technology-madras/wandb/runs/s3du9cx3</a><br> View project at: <a href='https://wandb.ai/na21b075-indian-institute-of-technology-madras/wandb' target=\"_blank\">https://wandb.ai/na21b075-indian-institute-of-technology-madras/wandb</a><br>Synced 5 W&B file(s), 1 media file(s), 2 artifact file(s) and 0 other file(s)"
            ]
          },
          "metadata": {}
        },
        {
          "output_type": "display_data",
          "data": {
            "text/plain": [
              "<IPython.core.display.HTML object>"
            ],
            "text/html": [
              "Find logs at: <code>./wandb/run-20250317_140104-s3du9cx3/logs</code>"
            ]
          },
          "metadata": {}
        },
        {
          "output_type": "display_data",
          "data": {
            "text/plain": [
              "<IPython.core.display.HTML object>"
            ],
            "text/html": [
              "Tracking run with wandb version 0.19.8"
            ]
          },
          "metadata": {}
        },
        {
          "output_type": "display_data",
          "data": {
            "text/plain": [
              "<IPython.core.display.HTML object>"
            ],
            "text/html": [
              "Run data is saved locally in <code>/content/wandb/run-20250317_140729-7zxpatk2</code>"
            ]
          },
          "metadata": {}
        },
        {
          "output_type": "display_data",
          "data": {
            "text/plain": [
              "<IPython.core.display.HTML object>"
            ],
            "text/html": [
              "Syncing run <strong><a href='https://wandb.ai/na21b075-indian-institute-of-technology-madras/wandb/runs/7zxpatk2' target=\"_blank\">dazzling-fire-54</a></strong> to <a href='https://wandb.ai/na21b075-indian-institute-of-technology-madras/wandb' target=\"_blank\">Weights & Biases</a> (<a href='https://wandb.me/developer-guide' target=\"_blank\">docs</a>)<br>"
            ]
          },
          "metadata": {}
        },
        {
          "output_type": "display_data",
          "data": {
            "text/plain": [
              "<IPython.core.display.HTML object>"
            ],
            "text/html": [
              " View project at <a href='https://wandb.ai/na21b075-indian-institute-of-technology-madras/wandb' target=\"_blank\">https://wandb.ai/na21b075-indian-institute-of-technology-madras/wandb</a>"
            ]
          },
          "metadata": {}
        },
        {
          "output_type": "display_data",
          "data": {
            "text/plain": [
              "<IPython.core.display.HTML object>"
            ],
            "text/html": [
              " View run at <a href='https://wandb.ai/na21b075-indian-institute-of-technology-madras/wandb/runs/7zxpatk2' target=\"_blank\">https://wandb.ai/na21b075-indian-institute-of-technology-madras/wandb/runs/7zxpatk2</a>"
            ]
          },
          "metadata": {}
        },
        {
          "output_type": "stream",
          "name": "stdout",
          "text": [
            "Epoch: 1\n",
            "     Accuracy 10.024074074074074\n",
            "Epoch: 2\n",
            "     Accuracy 17.564814814814813\n",
            "Epoch: 3\n",
            "     Accuracy 67.86851851851851\n",
            "Epoch: 4\n",
            "     Accuracy 81.26481481481481\n",
            "Epoch: 5\n",
            "     Accuracy 84.18518518518519\n",
            "Epoch: 6\n",
            "     Accuracy 85.29814814814814\n",
            "Epoch: 7\n",
            "     Accuracy 86.03148148148148\n",
            "Epoch: 8\n",
            "     Accuracy 86.5037037037037\n",
            "Epoch: 9\n",
            "     Accuracy 86.85\n",
            "Epoch: 10\n"
          ]
        }
      ],
      "source": [
        "for _ in range(4):  #done with 70 runs earli\n",
        "  swp()"
      ]
    },
    {
      "cell_type": "code",
      "source": [
        "import wandb\n",
        "\n",
        "sweep_config = {\n",
        "  \"name\": \"My Sweep\",\n",
        "  \"method\": \"grid\",\n",
        "  \"project\": \"wandb\",\n",
        "  \"metric\":{\n",
        "      \"name\":\"val_accuracy\",\n",
        "      \"goal\":\"maximize\"\n",
        "  },\n",
        "  \"parameters\": {\n",
        "        \"max_epoch\": {\n",
        "            \"values\": [10]\n",
        "        },\n",
        "        \"num_hidden\": {\n",
        "            \"values\":[5]\n",
        "        },\n",
        "        \"size_hidden\": {\n",
        "            \"values\":[128]\n",
        "        },\n",
        "        \"weight_decay\":{\n",
        "            \"values\":[0, 0.0005]\n",
        "        },\n",
        "        \"learning_rate\":{\n",
        "            \"values\":[0.001]\n",
        "        },\n",
        "        \"batch_size\": {\n",
        "            \"values\":[16]\n",
        "        },\n",
        "        \"optimizer\": {\n",
        "            \"values\":['adam', 'nadam']\n",
        "        },\n",
        "        \"initializer\": {\n",
        "            \"values\":['Xavier']\n",
        "        },\n",
        "        \"activation\":{\n",
        "            \"values\": ['relu']\n",
        "        },\n",
        "        \"loss_func\":{\n",
        "            \"values\": ['cross_entropy']\n",
        "        }\n",
        "    }\n",
        "}\n",
        "\n",
        "sweep_id = wandb.sweep(sweep_config)"
      ],
      "metadata": {
        "id": "FCtPtHZbqfwg"
      },
      "execution_count": null,
      "outputs": []
    },
    {
      "cell_type": "code",
      "source": [
        "import wandb\n",
        "\n",
        "sweep_config = {\n",
        "  \"name\": \"Loss_compare\",\n",
        "  \"method\": \"grid\",\n",
        "  \"project\": \"wandb\",\n",
        "  \"metric\":{\n",
        "      \"name\":\"val_accuracy\",\n",
        "      \"goal\":\"maximize\"\n",
        "  },\n",
        "  \"parameters\": {\n",
        "        \"max_epoch\": {\n",
        "            \"values\":[10]\n",
        "        },\n",
        "        \"num_hidden\": {\n",
        "            \"values\":[5]\n",
        "        },\n",
        "        \"size_hidden\": {\n",
        "            \"values\":[64]\n",
        "        },\n",
        "        \"weight_decay\":{\n",
        "            \"values\":[0]\n",
        "        },\n",
        "        \"learning_rate\":{\n",
        "            \"values\":[0.001]\n",
        "        },\n",
        "        \"batch_size\": {\n",
        "            \"values\":[16]\n",
        "        },\n",
        "        \"optimizer\": {\n",
        "            \"values\":['adam']\n",
        "        },\n",
        "        \"initializer\": {\n",
        "            \"values\":['Xavier']\n",
        "        },\n",
        "        \"activation\":{\n",
        "            \"values\": ['relu']\n",
        "        },\n",
        "        \"loss_func\":{\n",
        "            \"values\": ['mse']\n",
        "        }\n",
        "    }\n",
        "}\n",
        "\n",
        "sweep_id = wandb"
      ],
      "metadata": {
        "id": "LwJ62bMUuWed"
      },
      "execution_count": null,
      "outputs": []
    },
    {
      "cell_type": "code",
      "source": [
        "sweep_config = {\n",
        "  \"name\": \"Cross Entropy Loss-Final(5)\",\n",
        "  \"metric\": {\n",
        "      \"name\":\"validation_accuracy\",\n",
        "      \"goal\": \"maximize\"\n",
        "  },\n",
        "  \"method\": \"random\",\n",
        "  \"parameters\": {\n",
        "        \"neurons_per_layer\": {\n",
        "            \"values\": [32, 64, 128, 256, 512]\n",
        "        },\n",
        "         \"num_hidden_layers\": {\n",
        "            \"values\": [3, 4, 5, 6]\n",
        "        },\n",
        "        \"activation_function\": {\n",
        "            \"values\": [\"sigmoid\", \"relu\", \"tanh\",\"identity\"]\n",
        "        },\n",
        "        \"learning_rate\": {\n",
        "            \"values\": [0.01, 0.001, 0.0001]\n",
        "        },\n",
        "        \"init\": {\n",
        "            \"values\": [\"Xavier\", \"random\"]\n",
        "        },\n",
        "        \"optimizer\": {\n",
        "            \"values\": [\"sgd\", \"momentum\", \"nesterov\", \"adam\", \"nadam\", \"rmsprop\"]\n",
        "        },\n",
        "        \"batch_size\": {\n",
        "            \"values\": [32,64,128,256]\n",
        "        },\n",
        "        \"L2_lamb\": {\n",
        "            \"values\": [0, 0.05, 0.5]\n",
        "        },\n",
        "        \"epochs\": {\n",
        "            \"values\": [5, 15, 20, 30, 40]\n",
        "        }\n",
        "    }\n",
        "}\n",
        "sweep_id = wandb"
      ],
      "metadata": {
        "id": "L6rlM3cHy8cF"
      },
      "execution_count": null,
      "outputs": []
    },
    {
      "cell_type": "code",
      "execution_count": null,
      "metadata": {
        "id": "IT0nPEDscM11"
      },
      "outputs": [],
      "source": [
        "def mnist_swp():\n",
        "  from keras.datasets import mnist\n",
        "  from matplotlib import pyplot\n",
        "  import numpy as np\n",
        "  import math\n",
        "  import random\n",
        "  from sklearn.metrics import confusion_matrix\n",
        "  import seaborn as sns\n",
        "  from sklearn.model_selection import train_test_split\n",
        "  (X_train, y_train), (X_test, y_test) = mnist.load_data()\n",
        "  X_train_flatten = np.reshape(X_train,(X_train.shape[0],X_train.shape[1]*X_train.shape[2]))/255.0\n",
        "\n",
        "  X_test_flatten = np.reshape(X_test,(X_test.shape[0],X_test.shape[1]*X_test.shape[2]))/255.0\n",
        "  X_test_flatten = X_test_flatten.T\n",
        "\n",
        "  X_train_flatten, X_val, y_train, y_val = train_test_split( X_train_flatten, y_train, test_size=0.1, random_state=42)\n",
        "  X_train_flatten = X_train_flatten.T\n",
        "  X_val = X_val.T\n",
        "  class_names = ['T-shirt/top', 'Trouser', 'Pullover', 'Dress', 'Coat',\n",
        "               'Sandal', 'Shirt', 'Sneaker', 'Bag', 'Ankle boot']\n",
        "  num_train = int(0.9*X_train.shape[0])\n",
        "  num_val = int(0.1*X_train.shape[0])\n",
        "\n",
        "  hyperparameter_defaults = dict(\n",
        "      num_hidden = 5,\n",
        "      size_hidden = 64,\n",
        "      weight_decay = 0.0005,\n",
        "      optimizer = 'adam',\n",
        "      initializer = 'Xavier',\n",
        "      activation = 'relu',\n",
        "      batch_size = 16,\n",
        "      learning_rate = 0.001,\n",
        "      max_epoch = 10,\n",
        "      loss_func = 'cross_entropy'\n",
        "      )\n",
        "\n",
        "\n",
        "  wandb.init(project=\"wandb\", config=hyperparameter_defaults)\n",
        "  config = wandb.config\n",
        "  wandb.run.name = \"MNIST_hl{}_bs_{}_ac_{}\".format(config.num_hidden,config.batch_size, config.activation)\n",
        "  L = config.num_hidden+1\n",
        "  beta1 = 0.9\n",
        "  beta2 = 0.999\n",
        "  eps = 1e-8\n",
        "  gamma = 0.9\n",
        "\n",
        "\n",
        "  Wb_matrix, update, grad_initial = initialize_Wb_matrix(X_train_flatten, config.num_hidden , config.size_hidden ,config.initializer)\n",
        "  #initializing parameters in adam optimization to zero dictionary\n",
        "  v = update.copy()\n",
        "  m_hat = update.copy()\n",
        "  v_hat = update.copy()\n",
        "\n",
        "\n",
        "  for i in range(config.max_epoch):\n",
        "    loss = 0\n",
        "    val_loss = 0\n",
        "    count = 0\n",
        "    grads = grad_initial\n",
        "    print(\"Epoch:\", i+1)\n",
        "    for j in range(num_train):\n",
        "      train_ip= np.reshape(X_train_flatten[:,j], (-1, 1))\n",
        "      y_hat, H_caches, A_caches = forward_propagation(train_ip, Wb_matrix ,config.activation)\n",
        "      if(y_train[j]==np.argmax(y_hat)):\n",
        "        count = count + 1;\n",
        "\n",
        "      if (j+1)%config.batch_size == 0  :\n",
        "        if config.optimizer == 'nag':\n",
        "          Wb_matrix, update = nag(Wb_matrix, config.learning_rate,gamma, update, L)\n",
        "        elif config.optimizer == 'nadam':\n",
        "          Wb_matrix, update = nag(Wb_matrix, config.learning_rate,gamma, update, L)\n",
        "\n",
        "      grad = back_propagation(H_caches, A_caches, Wb_matrix, y_hat, [y_train[j]], config.activation, config.weight_decay,config.loss_func)\n",
        "      for l in range(L):\n",
        "        grads['dW' + str(l+1)] = grads['dW' + str(l+1)] + grad['dW' + str(l+1)]\n",
        "        grads['db' + str(l+1)] = grads['db' + str(l+1)] + grad['db' + str(l+1)]\n",
        "\n",
        "\n",
        "      if (j+1)%config.batch_size == 0 :\n",
        "        for l in range(L):\n",
        "          grads['dW' + str(l+1)] = grads['dW' + str(l+1)]/config.batch_size\n",
        "          grads['db' + str(l+1)] = grads['db' + str(l+1)]/config.batch_size\n",
        "        if config.optimizer == 'sgd':\n",
        "          Wb_matrix = sgd(Wb_matrix, grads, config.learning_rate,L)\n",
        "        elif config.optimizer == 'momentum':\n",
        "          Wb_matrix,update = momentum(Wb_matrix,grads,config.learning_rate,gamma,update,L)\n",
        "        elif config.optimizer == 'nag':\n",
        "          Wb_matrix,update = momentum(Wb_matrix,grads,config.learning_rate,gamma,update,L)\n",
        "        elif config.optimizer == 'rmsprop':\n",
        "          Wb_matrix, update = rmsprop(Wb_matrix, config.learning_rate, update,  beta1, eps, grads, L)\n",
        "        elif config.optimizer == 'adam':\n",
        "          Wb_matrix, update,v = adam(Wb_matrix, config.learning_rate, beta1, beta2, update, v, eps, grads, L, i+1)\n",
        "        elif config.optimizer == 'nadam':\n",
        "          Wb_matrix, update,v = adam(Wb_matrix, config.learning_rate, beta1, beta2, update, v, eps, grads, L, i+1)\n",
        "      if config.loss_func == 'cross_entropy':\n",
        "        loss = loss - (1/num_train)*math.log(y_hat[y_train[j]])\n",
        "      elif config.loss_func == 'mse':\n",
        "        loss = loss + (1/num_train)*(np.argmax(y_hat) - y_train[j])**2\n",
        "\n",
        "    y_hat_val, H_caches_val, A_caches_val = forward_propagation(X_val, Wb_matrix ,config.activation)\n",
        "    count_val = np.sum(np.argmax(y_hat_val, axis = 0)== y_val)\n",
        "\n",
        "    for j in range(num_val):\n",
        "      val_ip= np.reshape(X_val[:,j], (-1, 1))\n",
        "      y_hat_val, H_caches_val, A_caches_val = forward_propagation(val_ip, Wb_matrix ,config.activation)\n",
        "      if config.loss_func == 'cross_entropy':\n",
        "        val_loss = val_loss - (1/num_val)*math.log(y_hat_val[int(y_val[j])])\n",
        "      elif config.loss_func == 'mse':\n",
        "        val_loss = val_loss + (1/num_val)*(np.argmax(y_hat_val) - y_val[j])**2\n",
        "\n",
        "    accuracy = 100*count/num_train\n",
        "    val_accuracy = 100*count_val/num_val\n",
        "\n",
        "    print(\"     Loss\", loss)\n",
        "    print(\"     Accuracy\",accuracy)\n",
        "    print(\"     Validation Loss\", val_loss)\n",
        "    print(\"     Validation Accuracy\", val_accuracy)\n",
        "\n",
        "    metrics = {'epoch':i, 'val_accuracy': val_accuracy, 'val_loss': val_loss, 'accuracy': accuracy, 'loss': loss}\n",
        "    wandb.log(metrics)\n",
        "\n",
        "  y_hat_test, H_caches_test, A_caches_test = forward_propagation(X_test_flatten, Wb_matrix ,config.activation)\n",
        "  wandb.log({\"Confusion_Matrix\" : wandb.plot.confusion_matrix(\n",
        "                        probs=None,\n",
        "                        y_true=y_test,\n",
        "                        preds=np.argmax(y_hat_test, axis = 0),\n",
        "                        class_names=class_names)})\n",
        "\n",
        "\n",
        "  wandb.run.finish()"
      ]
    },
    {
      "cell_type": "code",
      "execution_count": null,
      "metadata": {
        "colab": {
          "base_uri": "https://localhost:8080/",
          "height": 1000
        },
        "id": "KlB7pLrlcT4K",
        "outputId": "e2287d07-5d76-46c0-d2e0-d7df38b5c037"
      },
      "outputs": [
        {
          "name": "stdout",
          "output_type": "stream",
          "text": [
            "Downloading data from https://storage.googleapis.com/tensorflow/tf-keras-datasets/mnist.npz\n",
            "\u001b[1m11490434/11490434\u001b[0m \u001b[32m━━━━━━━━━━━━━━━━━━━━\u001b[0m\u001b[37m\u001b[0m \u001b[1m0s\u001b[0m 0us/step\n"
          ]
        },
        {
          "data": {
            "text/html": [
              "Changes to your `wandb` environment variables will be ignored because your `wandb` session has already started. For more information on how to modify your settings with `wandb.init()` arguments, please refer to <a href='https://wandb.me/wandb-init' target=\"_blank\">the W&B docs</a>."
            ],
            "text/plain": [
              "<IPython.core.display.HTML object>"
            ]
          },
          "metadata": {},
          "output_type": "display_data"
        },
        {
          "data": {
            "text/html": [
              "Tracking run with wandb version 0.19.7"
            ],
            "text/plain": [
              "<IPython.core.display.HTML object>"
            ]
          },
          "metadata": {},
          "output_type": "display_data"
        },
        {
          "data": {
            "text/html": [
              "Run data is saved locally in <code>/content/wandb/run-20250310_050515-ujmgcjo4</code>"
            ],
            "text/plain": [
              "<IPython.core.display.HTML object>"
            ]
          },
          "metadata": {},
          "output_type": "display_data"
        },
        {
          "data": {
            "text/html": [
              "Syncing run <strong><a href='https://wandb.ai/na21b075-indian-institute-of-technology-madras/wandb/runs/ujmgcjo4' target=\"_blank\">smart-dragon-5</a></strong> to <a href='https://wandb.ai/na21b075-indian-institute-of-technology-madras/wandb' target=\"_blank\">Weights & Biases</a> (<a href='https://wandb.me/developer-guide' target=\"_blank\">docs</a>)<br>"
            ],
            "text/plain": [
              "<IPython.core.display.HTML object>"
            ]
          },
          "metadata": {},
          "output_type": "display_data"
        },
        {
          "data": {
            "text/html": [
              " View project at <a href='https://wandb.ai/na21b075-indian-institute-of-technology-madras/wandb' target=\"_blank\">https://wandb.ai/na21b075-indian-institute-of-technology-madras/wandb</a>"
            ],
            "text/plain": [
              "<IPython.core.display.HTML object>"
            ]
          },
          "metadata": {},
          "output_type": "display_data"
        },
        {
          "data": {
            "text/html": [
              " View run at <a href='https://wandb.ai/na21b075-indian-institute-of-technology-madras/wandb/runs/ujmgcjo4' target=\"_blank\">https://wandb.ai/na21b075-indian-institute-of-technology-madras/wandb/runs/ujmgcjo4</a>"
            ],
            "text/plain": [
              "<IPython.core.display.HTML object>"
            ]
          },
          "metadata": {},
          "output_type": "display_data"
        },
        {
          "name": "stdout",
          "output_type": "stream",
          "text": [
            "Epoch: 1\n"
          ]
        },
        {
          "name": "stderr",
          "output_type": "stream",
          "text": [
            "<ipython-input-36-d4af7b3cc01d>:96: DeprecationWarning: Conversion of an array with ndim > 0 to a scalar is deprecated, and will error in future. Ensure you extract a single element from your array before performing this operation. (Deprecated NumPy 1.25.)\n",
            "  loss = loss - (1/num_train)*math.log(y_hat[y_train[j]])\n",
            "<ipython-input-36-d4af7b3cc01d>:107: DeprecationWarning: Conversion of an array with ndim > 0 to a scalar is deprecated, and will error in future. Ensure you extract a single element from your array before performing this operation. (Deprecated NumPy 1.25.)\n",
            "  val_loss = val_loss - (1/num_val)*math.log(y_hat_val[int(y_val[j])])\n"
          ]
        },
        {
          "name": "stdout",
          "output_type": "stream",
          "text": [
            "     Loss 0.316195736911371\n",
            "     Accuracy 90.37222222222222\n",
            "     Validation Loss 0.18549879108774947\n",
            "     Validation Accuracy 94.63333333333334\n",
            "Epoch: 2\n",
            "     Loss 0.1581142536184333\n",
            "     Accuracy 95.33333333333333\n",
            "     Validation Loss 0.14159889862629507\n",
            "     Validation Accuracy 95.85\n",
            "Epoch: 3\n",
            "     Loss 0.12371416814136577\n",
            "     Accuracy 96.34814814814816\n",
            "     Validation Loss 0.12483939227732761\n",
            "     Validation Accuracy 96.33333333333333\n",
            "Epoch: 4\n",
            "     Loss 0.10410452547801637\n",
            "     Accuracy 96.94814814814815\n",
            "     Validation Loss 0.11512925328921049\n",
            "     Validation Accuracy 96.45\n",
            "Epoch: 5\n",
            "     Loss 0.09013265717746007\n",
            "     Accuracy 97.40925925925926\n",
            "     Validation Loss 0.10770637660469153\n",
            "     Validation Accuracy 96.58333333333333\n",
            "Epoch: 6\n",
            "     Loss 0.07979201315613145\n",
            "     Accuracy 97.73333333333333\n",
            "     Validation Loss 0.10147077621831398\n",
            "     Validation Accuracy 96.71666666666667\n",
            "Epoch: 7\n",
            "     Loss 0.07164757708142258\n",
            "     Accuracy 97.9888888888889\n",
            "     Validation Loss 0.09849277421992494\n",
            "     Validation Accuracy 96.73333333333333\n",
            "Epoch: 8\n",
            "     Loss 0.06496225463502896\n",
            "     Accuracy 98.16851851851852\n",
            "     Validation Loss 0.09742241310669547\n",
            "     Validation Accuracy 96.75\n",
            "Epoch: 9\n",
            "     Loss 0.05952972355553977\n",
            "     Accuracy 98.31851851851852\n",
            "     Validation Loss 0.09462351189325294\n",
            "     Validation Accuracy 96.85\n",
            "Epoch: 10\n",
            "     Loss 0.05463728838980541\n",
            "     Accuracy 98.46111111111111\n",
            "     Validation Loss 0.09410592481727743\n",
            "     Validation Accuracy 96.95\n"
          ]
        },
        {
          "data": {
            "text/html": [],
            "text/plain": [
              "<IPython.core.display.HTML object>"
            ]
          },
          "metadata": {},
          "output_type": "display_data"
        },
        {
          "data": {
            "text/html": [
              "<br>    <style><br>        .wandb-row {<br>            display: flex;<br>            flex-direction: row;<br>            flex-wrap: wrap;<br>            justify-content: flex-start;<br>            width: 100%;<br>        }<br>        .wandb-col {<br>            display: flex;<br>            flex-direction: column;<br>            flex-basis: 100%;<br>            flex: 1;<br>            padding: 10px;<br>        }<br>    </style><br><div class=\"wandb-row\"><div class=\"wandb-col\"><h3>Run history:</h3><br/><table class=\"wandb\"><tr><td>accuracy</td><td>▁▅▆▇▇▇████</td></tr><tr><td>epoch</td><td>▁▂▃▃▄▅▆▆▇█</td></tr><tr><td>loss</td><td>█▄▃▂▂▂▁▁▁▁</td></tr><tr><td>val_accuracy</td><td>▁▅▆▆▇▇▇▇██</td></tr><tr><td>val_loss</td><td>█▅▃▃▂▂▁▁▁▁</td></tr></table><br/></div><div class=\"wandb-col\"><h3>Run summary:</h3><br/><table class=\"wandb\"><tr><td>accuracy</td><td>98.46111</td></tr><tr><td>epoch</td><td>9</td></tr><tr><td>loss</td><td>0.05464</td></tr><tr><td>val_accuracy</td><td>96.95</td></tr><tr><td>val_loss</td><td>0.09411</td></tr></table><br/></div></div>"
            ],
            "text/plain": [
              "<IPython.core.display.HTML object>"
            ]
          },
          "metadata": {},
          "output_type": "display_data"
        },
        {
          "data": {
            "text/html": [
              " View run <strong style=\"color:#cdcd00\">MNIST_hl5_bs_16_ac_relu</strong> at: <a href='https://wandb.ai/na21b075-indian-institute-of-technology-madras/wandb/runs/ujmgcjo4' target=\"_blank\">https://wandb.ai/na21b075-indian-institute-of-technology-madras/wandb/runs/ujmgcjo4</a><br> View project at: <a href='https://wandb.ai/na21b075-indian-institute-of-technology-madras/wandb' target=\"_blank\">https://wandb.ai/na21b075-indian-institute-of-technology-madras/wandb</a><br>Synced 5 W&B file(s), 1 media file(s), 2 artifact file(s) and 0 other file(s)"
            ],
            "text/plain": [
              "<IPython.core.display.HTML object>"
            ]
          },
          "metadata": {},
          "output_type": "display_data"
        },
        {
          "data": {
            "text/html": [
              "Find logs at: <code>./wandb/run-20250310_050515-ujmgcjo4/logs</code>"
            ],
            "text/plain": [
              "<IPython.core.display.HTML object>"
            ]
          },
          "metadata": {},
          "output_type": "display_data"
        }
      ],
      "source": [
        "mnist_swp()"
      ]
    }
  ],
  "metadata": {
    "colab": {
      "provenance": [],
      "gpuType": "T4"
    },
    "kernelspec": {
      "display_name": "Python 3",
      "name": "python3"
    },
    "language_info": {
      "name": "python"
    },
    "accelerator": "GPU"
  },
  "nbformat": 4,
  "nbformat_minor": 0
}